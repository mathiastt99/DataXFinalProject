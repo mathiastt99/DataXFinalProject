{
 "cells": [
  {
   "cell_type": "markdown",
   "metadata": {},
   "source": [
    "classification model that can identify a good dead lift from a bad one"
   ]
  },
  {
   "cell_type": "code",
   "execution_count": 2,
   "metadata": {},
   "outputs": [
    {
     "data": {
      "text/plain": [
       "'1.8.0'"
      ]
     },
     "execution_count": 2,
     "metadata": {},
     "output_type": "execute_result"
    }
   ],
   "source": [
    "import tensorflow as tf\n",
    "import pandas as pd\n",
    "from tensorflow import keras\n",
    "import numpy as np\n",
    "import imageio\n",
    "import cv2\n",
    "import matplotlib.pyplot as plt\n",
    "from PIL import Image\n",
    "from PIL import ImageOps\n",
    "import PIL\n",
    "import cv2\n",
    "import os\n",
    "import anvil\n",
    "from keras.preprocessing.image import load_img, img_to_array\n",
    "tf.__version__"
   ]
  },
  {
   "cell_type": "code",
   "execution_count": 3,
   "metadata": {},
   "outputs": [],
   "source": [
    "DirectoryGoodLift = './GoodDeadLift'\n",
    "DirectoryBadLift = './BadDeadLift'\n",
    "TestGoodDir = './GoodTest'\n",
    "TestBadDir = './BadTest'"
   ]
  },
  {
   "cell_type": "code",
   "execution_count": 4,
   "metadata": {},
   "outputs": [],
   "source": [
    "def rgb2gray(rgb):\n",
    "    return np.dot(rgb[...,:3], [0.2989, 0.5870, 0.1140])"
   ]
  },
  {
   "cell_type": "code",
   "execution_count": 5,
   "metadata": {},
   "outputs": [
    {
     "data": {
      "image/png": "[encoded data removed]",
      "text/plain": [
       "<Figure size 432x288 with 1 Axes>"
      ]
     },
     "metadata": {
      "needs_background": "light"
     },
     "output_type": "display_data"
    }
   ],
   "source": [
    "GoodDead = []\n",
    "BadDead = []\n",
    "GoodTest = []\n",
    "BadTest = []\n",
    "for filename in os.listdir(DirectoryGoodLift):\n",
    "    #print(filename)\n",
    "    pic = imageio.imread(DirectoryGoodLift+\"/\"+filename)\n",
    "    dimension = (100, 100)\n",
    "    pic = cv2.resize(pic, dimension)\n",
    "    pic = rgb2gray(pic)/255\n",
    "    #pic = cv2.resize(pic, dimension)\n",
    "    GoodDead += [pic]\n",
    "    plt.imshow(pic)\n",
    "    #plt.show()\n",
    "for filename in os.listdir(DirectoryBadLift):\n",
    "    #print(filename)\n",
    "    pic = imageio.imread(DirectoryBadLift+\"/\"+filename)\n",
    "    dimension = (100, 100)\n",
    "    pic = cv2.resize(pic, dimension)\n",
    "    pic = rgb2gray(pic)/255\n",
    "    #pic = cv2.resize(pic, dimension)\n",
    "    BadDead += [pic]\n",
    "    plt.imshow(pic)\n",
    "    #plt.show()\n",
    "for filename in os.listdir(TestGoodDir):\n",
    "    #print(filename)\n",
    "    pic = imageio.imread(TestGoodDir+\"/\"+filename)\n",
    "    dimension = (100, 100)\n",
    "    pic = cv2.resize(pic, dimension)\n",
    "    pic = rgb2gray(pic)/255\n",
    "    #pic = cv2.resize(pic, dimension)\n",
    "    GoodTest += [pic]\n",
    "    plt.imshow(pic)\n",
    "for filename in os.listdir(TestBadDir):\n",
    "    #print(filename)\n",
    "    pic = imageio.imread(TestBadDir+\"/\"+filename)\n",
    "    dimension = (100, 100)\n",
    "    pic = cv2.resize(pic, dimension)\n",
    "    pic = rgb2gray(pic)/255\n",
    "    #pic = cv2.resize(pic, dimension)\n",
    "    BadTest += [pic]\n",
    "    plt.imshow(pic)"
   ]
  },
  {
   "cell_type": "code",
   "execution_count": 6,
   "metadata": {},
   "outputs": [
    {
     "data": {
      "text/html": [
       "<div>\n",
       "<style scoped>\n",
       "    .dataframe tbody tr th:only-of-type {\n",
       "        vertical-align: middle;\n",
       "    }\n",
       "\n",
       "    .dataframe tbody tr th {\n",
       "        vertical-align: top;\n",
       "    }\n",
       "\n",
       "    .dataframe thead th {\n",
       "        text-align: right;\n",
       "    }\n",
       "</style>\n",
       "<table border=\"1\" class=\"dataframe\">\n",
       "  <thead>\n",
       "    <tr style=\"text-align: right;\">\n",
       "      <th></th>\n",
       "      <th>Image</th>\n",
       "      <th>Proper</th>\n",
       "    </tr>\n",
       "  </thead>\n",
       "  <tbody>\n",
       "    <tr>\n",
       "      <th>0</th>\n",
       "      <td>[[0.43226901960784314, 0.4283478431372549, 0.4...</td>\n",
       "      <td>1</td>\n",
       "    </tr>\n",
       "    <tr>\n",
       "      <th>1</th>\n",
       "      <td>[[0.1408419607843137, 0.6765929411764705, 0.08...</td>\n",
       "      <td>1</td>\n",
       "    </tr>\n",
       "    <tr>\n",
       "      <th>2</th>\n",
       "      <td>[[0.9998999999999999, 0.9998999999999999, 0.99...</td>\n",
       "      <td>1</td>\n",
       "    </tr>\n",
       "    <tr>\n",
       "      <th>3</th>\n",
       "      <td>[[0.45495882352941175, 0.4632482352941176, 0.4...</td>\n",
       "      <td>1</td>\n",
       "    </tr>\n",
       "    <tr>\n",
       "      <th>4</th>\n",
       "      <td>[[0.01988392156862745, 0.023805098039215686, 0...</td>\n",
       "      <td>1</td>\n",
       "    </tr>\n",
       "  </tbody>\n",
       "</table>\n",
       "</div>"
      ],
      "text/plain": [
       "                                               Image  Proper\n",
       "0  [[0.43226901960784314, 0.4283478431372549, 0.4...       1\n",
       "1  [[0.1408419607843137, 0.6765929411764705, 0.08...       1\n",
       "2  [[0.9998999999999999, 0.9998999999999999, 0.99...       1\n",
       "3  [[0.45495882352941175, 0.4632482352941176, 0.4...       1\n",
       "4  [[0.01988392156862745, 0.023805098039215686, 0...       1"
      ]
     },
     "execution_count": 6,
     "metadata": {},
     "output_type": "execute_result"
    }
   ],
   "source": [
    "train_data_images = GoodDead+BadDead\n",
    "train_data_labels = [1]*27 +[0]*26\n",
    "train_df = pd.DataFrame({'Image':train_data_images, 'Proper':train_data_labels})\n",
    "#train_df\n",
    "\n",
    "test_data_images = GoodTest+BadTest\n",
    "test_data_labels = [1]*5+[0]*5\n",
    "test_df = pd.DataFrame({'Image':test_data_images, 'Proper':test_data_labels})\n",
    "train_df.head()"
   ]
  },
  {
   "cell_type": "code",
   "execution_count": 7,
   "metadata": {},
   "outputs": [
    {
     "name": "stdout",
     "output_type": "stream",
     "text": [
      "(53, 100, 100) (10, 100, 100)\n"
     ]
    }
   ],
   "source": [
    "train_x = np.array([el.tolist() for el in train_df['Image']])\n",
    "train_y = np.array([el for el in train_df['Proper']])\n",
    "test_x = np.array([el.tolist() for el in test_df['Image']])\n",
    "test_y = np.array([el for el in test_df['Proper']])\n",
    "print(train_x.shape, test_x.shape)\n",
    "\n",
    "#type(train_df['Image'][0])\n",
    "#train_x"
   ]
  },
  {
   "cell_type": "code",
   "execution_count": 8,
   "metadata": {},
   "outputs": [],
   "source": [
    "model = keras.Sequential([keras.layers.Flatten(input_shape=(100, 100)), \n",
    "                          keras.layers.Dense(128, activation=tf.nn.relu),\n",
    "                          keras.layers.Dense(60, activation=tf.nn.relu),\n",
    "                          keras.layers.Dense(40, activation=tf.nn.relu),\n",
    "                          keras.layers.Dense(2, activation=tf.nn.softmax)])"
   ]
  },
  {
   "cell_type": "code",
   "execution_count": 9,
   "metadata": {},
   "outputs": [],
   "source": [
    "model.compile(optimizer='adam', loss='sparse_categorical_crossentropy', metrics=['accuracy'])"
   ]
  },
  {
   "cell_type": "code",
   "execution_count": 33,
   "metadata": {},
   "outputs": [
    {
     "name": "stdout",
     "output_type": "stream",
     "text": [
      "Epoch 1/10\n",
      "53/53 [==============================] - 0s 828us/step - loss: 0.0317 - acc: 0.9811\n",
      "Epoch 2/10\n",
      "53/53 [==============================] - 0s 669us/step - loss: 0.0353 - acc: 0.9811\n",
      "Epoch 3/10\n",
      "53/53 [==============================] - 0s 654us/step - loss: 0.0340 - acc: 0.9811\n",
      "Epoch 4/10\n",
      "53/53 [==============================] - 0s 641us/step - loss: 0.0371 - acc: 0.9623\n",
      "Epoch 5/10\n",
      "53/53 [==============================] - 0s 671us/step - loss: 0.0294 - acc: 0.9811\n",
      "Epoch 6/10\n",
      "53/53 [==============================] - 0s 625us/step - loss: 0.0283 - acc: 0.9811\n",
      "Epoch 7/10\n",
      "53/53 [==============================] - 0s 620us/step - loss: 0.0296 - acc: 0.9811\n",
      "Epoch 8/10\n",
      "53/53 [==============================] - 0s 675us/step - loss: 0.0340 - acc: 0.9623\n",
      "Epoch 9/10\n",
      "53/53 [==============================] - 0s 631us/step - loss: 0.0282 - acc: 0.9811\n",
      "Epoch 10/10\n",
      "53/53 [==============================] - 0s 664us/step - loss: 0.0320 - acc: 0.9623\n"
     ]
    },
    {
     "data": {
      "text/plain": [
       "<tensorflow.python.keras._impl.keras.callbacks.History at 0x7f12a6fc92b0>"
      ]
     },
     "execution_count": 33,
     "metadata": {},
     "output_type": "execute_result"
    }
   ],
   "source": [
    "model.fit(train_x, train_y, epochs=10) #"
   ]
  },
  {
   "cell_type": "code",
   "execution_count": 34,
   "metadata": {
    "scrolled": true
   },
   "outputs": [
    {
     "name": "stdout",
     "output_type": "stream",
     "text": [
      "\r",
      "10/10 [==============================] - 0s 350us/step\n"
     ]
    },
    {
     "data": {
      "text/plain": [
       "0.699999988079071"
      ]
     },
     "execution_count": 34,
     "metadata": {},
     "output_type": "execute_result"
    }
   ],
   "source": [
    "test_loss, test_acc = model.evaluate(test_x, test_y)\n",
    "test_acc"
   ]
  },
  {
   "cell_type": "code",
   "execution_count": 35,
   "metadata": {},
   "outputs": [],
   "source": [
    "#model.predict(test_x[9:])\n",
    "#test_x[9:].shape\n",
    "model._make_predict_function()"
   ]
  },
  {
   "cell_type": "code",
   "execution_count": 36,
   "metadata": {},
   "outputs": [],
   "source": [
    "anvil.server.connect('ZKUXXJZX4XT6552OOHXWY3YI-TKCPIIRKFAYP42XL')"
   ]
  },
  {
   "cell_type": "code",
   "execution_count": 37,
   "metadata": {},
   "outputs": [],
   "source": [
    "import anvil.media\n",
    "\n",
    "@anvil.server.callable\n",
    "def is_proper(image):\n",
    "    #print('hello from uplink')\n",
    "    #return (str(type(image)), 1)\n",
    "    with anvil.media.TempFile(image) as filename:\n",
    "        #img = imageio.imread(filename)\n",
    "        img = load_img(filename)\n",
    "    img = img.resize((100, 100), resample=PIL.Image.BICUBIC) #this \n",
    "    #img = cv2.resize(img, (128, 128))\n",
    "    #pic = imageio.imread(DirectoryBadLift+\"/\"+filename)\n",
    "    #img = rgb2gray(pic)/255\n",
    "    img = img_to_array(img)\n",
    "    img = np.expand_dims(img, axis=0)\n",
    "    img = rgb2gray(img)/255\n",
    "    #score = img.shape\n",
    "    model._make_predict_function()\n",
    "    score = model.predict(img)[0][0]\n",
    "    if score < .5:\n",
    "        return (\"you're doing it correct! :)\", score)\n",
    "    else:\n",
    "        return (\"you're doing it wrong :(\", score)\n",
    "#anvil.server.wait_forever()"
   ]
  },
  {
   "cell_type": "code",
   "execution_count": 145,
   "metadata": {
    "collapsed": true
   },
   "outputs": [
    {
     "name": "stdout",
     "output_type": "stream",
     "text": [
      "Requirement already satisfied: anvil in /usr/local/lib/python3.6/dist-packages (0.0.2)\n",
      "Requirement already satisfied: pyyaml>=3.11 in /usr/local/lib/python3.6/dist-packages (from anvil) (5.3.1)\n",
      "Requirement already satisfied: jinja2>=2.7.3 in /usr/local/lib/python3.6/dist-packages (from anvil) (2.10.1)\n",
      "Requirement already satisfied: MarkupSafe>=0.23 in /usr/local/lib/python3.6/dist-packages (from jinja2>=2.7.3->anvil) (1.1.1)\n"
     ]
    }
   ],
   "source": [
    "!pip install anvil"
   ]
  },
  {
   "cell_type": "code",
   "execution_count": 146,
   "metadata": {
    "collapsed": true
   },
   "outputs": [
    {
     "name": "stdout",
     "output_type": "stream",
     "text": [
      "Requirement already satisfied: anvil-uplink in /usr/local/lib/python3.6/dist-packages (0.3.29)\r\n",
      "Requirement already satisfied: argparse in /usr/local/lib/python3.6/dist-packages (from anvil-uplink) (1.4.0)\r\n",
      "Requirement already satisfied: ws4py==0.3.4 in /usr/local/lib/python3.6/dist-packages (from anvil-uplink) (0.3.4)\r\n",
      "Requirement already satisfied: future in /usr/local/lib/python3.6/dist-packages (from anvil-uplink) (0.18.2)\r\n",
      "Requirement already satisfied: six in /usr/local/lib/python3.6/dist-packages (from anvil-uplink) (1.14.0)\r\n"
     ]
    }
   ],
   "source": [
    "!pip install anvil-uplink"
   ]
  },
  {
   "cell_type": "markdown",
   "metadata": {},
   "source": [
    "#attempted to use tf-pose-estimation package. There were incompatabilities due to tensorflow 2.1 update. "
   ]
  },
  {
   "cell_type": "code",
   "execution_count": 21,
   "metadata": {
    "collapsed": true
   },
   "outputs": [
    {
     "name": "stdout",
     "output_type": "stream",
     "text": [
      "Requirement already satisfied: tf_pose in /usr/local/lib/python3.6/dist-packages/tf_pose-0.1.1-py3.6-linux-x86_64.egg (0.1.1)\n",
      "Requirement already satisfied: argparse>=1.1 in /usr/local/lib/python3.6/dist-packages (from tf_pose) (1.4.0)\n",
      "Requirement already satisfied: dill==0.2.7.1 in /usr/local/lib/python3.6/dist-packages (from tf_pose) (0.2.7.1)\n",
      "Requirement already satisfied: fire>=0.1.3 in /usr/local/lib/python3.6/dist-packages (from tf_pose) (0.3.1)\n",
      "Requirement already satisfied: matplotlib>=2.2.2 in /usr/local/lib/python3.6/dist-packages (from tf_pose) (3.1.1)\n",
      "Requirement already satisfied: psutil>=5.4.5 in /usr/local/lib/python3.6/dist-packages (from tf_pose) (5.7.0)\n",
      "Requirement already satisfied: requests>=2.18.4 in /usr/local/lib/python3.6/dist-packages (from tf_pose) (2.23.0)\n",
      "Requirement already satisfied: scikit-image>=0.13.1 in /usr/local/lib/python3.6/dist-packages (from tf_pose) (0.16.2)\n",
      "Requirement already satisfied: scipy>=1.1.0 in /usr/local/lib/python3.6/dist-packages (from tf_pose) (1.4.1)\n",
      "Requirement already satisfied: slidingwindow>=0.0.13 in /usr/local/lib/python3.6/dist-packages (from tf_pose) (0.0.13)\n",
      "Requirement already satisfied: tqdm>=4.23.4 in /usr/local/lib/python3.6/dist-packages (from tf_pose) (4.45.0)\n",
      "Requirement already satisfied: tensorpack>=0.8.5 in /usr/local/lib/python3.6/dist-packages (from tf_pose) (0.10)\n",
      "Requirement already satisfied: pycocotools in /usr/local/lib/python3.6/dist-packages (from tf_pose) (2.0.0)\n",
      "Requirement already satisfied: six in /usr/local/lib/python3.6/dist-packages (from fire>=0.1.3->tf_pose) (1.14.0)\n",
      "Requirement already satisfied: termcolor in /usr/local/lib/python3.6/dist-packages (from fire>=0.1.3->tf_pose) (1.1.0)\n",
      "Requirement already satisfied: pyparsing!=2.0.4,!=2.1.2,!=2.1.6,>=2.0.1 in /usr/local/lib/python3.6/dist-packages (from matplotlib>=2.2.2->tf_pose) (2.4.2)\n",
      "Requirement already satisfied: kiwisolver>=1.0.1 in /usr/local/lib/python3.6/dist-packages (from matplotlib>=2.2.2->tf_pose) (1.1.0)\n",
      "Requirement already satisfied: python-dateutil>=2.1 in /usr/local/lib/python3.6/dist-packages (from matplotlib>=2.2.2->tf_pose) (2.8.0)\n",
      "Requirement already satisfied: numpy>=1.11 in /usr/local/lib/python3.6/dist-packages (from matplotlib>=2.2.2->tf_pose) (1.18.3)\n",
      "Requirement already satisfied: cycler>=0.10 in /usr/local/lib/python3.6/dist-packages (from matplotlib>=2.2.2->tf_pose) (0.10.0)\n",
      "Requirement already satisfied: chardet<4,>=3.0.2 in /usr/local/lib/python3.6/dist-packages (from requests>=2.18.4->tf_pose) (3.0.4)\n",
      "Requirement already satisfied: urllib3!=1.25.0,!=1.25.1,<1.26,>=1.21.1 in /usr/local/lib/python3.6/dist-packages (from requests>=2.18.4->tf_pose) (1.25.9)\n",
      "Requirement already satisfied: certifi>=2017.4.17 in /usr/local/lib/python3.6/dist-packages (from requests>=2.18.4->tf_pose) (2020.4.5.1)\n",
      "Requirement already satisfied: idna<3,>=2.5 in /usr/local/lib/python3.6/dist-packages (from requests>=2.18.4->tf_pose) (2.9)\n",
      "Requirement already satisfied: pillow>=4.3.0 in /usr/local/lib/python3.6/dist-packages (from scikit-image>=0.13.1->tf_pose) (7.1.1)\n",
      "Requirement already satisfied: networkx>=2.0 in /usr/local/lib/python3.6/dist-packages (from scikit-image>=0.13.1->tf_pose) (2.4)\n",
      "Requirement already satisfied: PyWavelets>=0.4.0 in /usr/local/lib/python3.6/dist-packages (from scikit-image>=0.13.1->tf_pose) (1.1.1)\n",
      "Requirement already satisfied: imageio>=2.3.0 in /usr/local/lib/python3.6/dist-packages (from scikit-image>=0.13.1->tf_pose) (2.8.0)\n",
      "Requirement already satisfied: msgpack-numpy>=0.4.4.2 in /usr/local/lib/python3.6/dist-packages (from tensorpack>=0.8.5->tf_pose) (0.4.5)\n",
      "Requirement already satisfied: tabulate>=0.7.7 in /usr/local/lib/python3.6/dist-packages (from tensorpack>=0.8.5->tf_pose) (0.8.7)\n",
      "Requirement already satisfied: msgpack>=0.5.2 in /usr/local/lib/python3.6/dist-packages (from tensorpack>=0.8.5->tf_pose) (1.0.0)\n",
      "Requirement already satisfied: pyzmq>=16 in /usr/local/lib/python3.6/dist-packages (from tensorpack>=0.8.5->tf_pose) (18.0.2)\n",
      "Requirement already satisfied: setuptools in /usr/local/lib/python3.6/dist-packages (from kiwisolver>=1.0.1->matplotlib>=2.2.2->tf_pose) (46.1.3)\n",
      "Requirement already satisfied: decorator>=4.3.0 in /usr/local/lib/python3.6/dist-packages (from networkx>=2.0->scikit-image>=0.13.1->tf_pose) (4.4.0)\n"
     ]
    }
   ],
   "source": [
    "!pip install tf_pose"
   ]
  },
  {
   "cell_type": "code",
   "execution_count": 19,
   "metadata": {
    "collapsed": true
   },
   "outputs": [
    {
     "name": "stdout",
     "output_type": "stream",
     "text": [
      "1.8.0\n",
      "**** Failed to initialize TensorRT. This is either because the TensorRT installation path is not in LD_LIBRARY_PATH, or because you do not have it installed. If not installed, please go to https://developer.nvidia.com/tensorrt to download and install TensorRT ****\n"
     ]
    },
    {
     "ename": "NotFoundError",
     "evalue": "libnvinfer.so.4: cannot open shared object file: No such file or directory",
     "output_type": "error",
     "traceback": [
      "\u001b[0;31m---------------------------------------------------------------------------\u001b[0m",
      "\u001b[0;31mNotFoundError\u001b[0m                             Traceback (most recent call last)",
      "\u001b[0;32m<ipython-input-19-a1361d7164dc>\u001b[0m in \u001b[0;36m<module>\u001b[0;34m\u001b[0m\n\u001b[0;32m----> 1\u001b[0;31m \u001b[0;32mimport\u001b[0m \u001b[0mtf_pose\u001b[0m\u001b[0;34m\u001b[0m\u001b[0;34m\u001b[0m\u001b[0m\n\u001b[0m\u001b[1;32m      2\u001b[0m \u001b[0mcoco_style\u001b[0m \u001b[0;34m=\u001b[0m \u001b[0mtf_pose\u001b[0m\u001b[0;34m.\u001b[0m\u001b[0minfer\u001b[0m\u001b[0;34m(\u001b[0m\u001b[0;34m'./BadDeadLift/download (4).jpeg'\u001b[0m\u001b[0;34m)\u001b[0m\u001b[0;34m\u001b[0m\u001b[0;34m\u001b[0m\u001b[0m\n\u001b[1;32m      3\u001b[0m \u001b[0mtype\u001b[0m\u001b[0;34m(\u001b[0m\u001b[0mcoco_style\u001b[0m\u001b[0;34m)\u001b[0m\u001b[0;34m\u001b[0m\u001b[0;34m\u001b[0m\u001b[0m\n",
      "\u001b[0;32m/notebooks/tf-pose-estimation/tf_pose/__init__.py\u001b[0m in \u001b[0;36m<module>\u001b[0;34m\u001b[0m\n\u001b[1;32m      3\u001b[0m \u001b[0;32mfrom\u001b[0m \u001b[0m__future__\u001b[0m \u001b[0;32mimport\u001b[0m \u001b[0mprint_function\u001b[0m\u001b[0;34m\u001b[0m\u001b[0;34m\u001b[0m\u001b[0m\n\u001b[1;32m      4\u001b[0m \u001b[0;34m\u001b[0m\u001b[0m\n\u001b[0;32m----> 5\u001b[0;31m \u001b[0;32mfrom\u001b[0m \u001b[0mtf_pose\u001b[0m\u001b[0;34m.\u001b[0m\u001b[0mrunner\u001b[0m \u001b[0;32mimport\u001b[0m \u001b[0minfer\u001b[0m\u001b[0;34m,\u001b[0m \u001b[0mEstimator\u001b[0m\u001b[0;34m,\u001b[0m \u001b[0mget_estimator\u001b[0m\u001b[0;34m\u001b[0m\u001b[0;34m\u001b[0m\u001b[0m\n\u001b[0m",
      "\u001b[0;32m/notebooks/tf-pose-estimation/tf_pose/runner.py\u001b[0m in \u001b[0;36m<module>\u001b[0;34m\u001b[0m\n\u001b[1;32m      6\u001b[0m \u001b[0;34m\u001b[0m\u001b[0m\n\u001b[1;32m      7\u001b[0m \u001b[0;32mfrom\u001b[0m \u001b[0mtf_pose\u001b[0m \u001b[0;32mimport\u001b[0m \u001b[0mcommon\u001b[0m\u001b[0;34m\u001b[0m\u001b[0;34m\u001b[0m\u001b[0m\n\u001b[0;32m----> 8\u001b[0;31m \u001b[0;32mfrom\u001b[0m \u001b[0mtf_pose\u001b[0m \u001b[0;32mimport\u001b[0m \u001b[0meval\u001b[0m\u001b[0;34m\u001b[0m\u001b[0;34m\u001b[0m\u001b[0m\n\u001b[0m\u001b[1;32m      9\u001b[0m \u001b[0;32mfrom\u001b[0m \u001b[0mtf_pose\u001b[0m\u001b[0;34m.\u001b[0m\u001b[0mestimator\u001b[0m \u001b[0;32mimport\u001b[0m \u001b[0mTfPoseEstimator\u001b[0m\u001b[0;34m\u001b[0m\u001b[0;34m\u001b[0m\u001b[0m\n\u001b[1;32m     10\u001b[0m \u001b[0;32mfrom\u001b[0m \u001b[0mtf_pose\u001b[0m\u001b[0;34m.\u001b[0m\u001b[0mnetworks\u001b[0m \u001b[0;32mimport\u001b[0m \u001b[0mget_graph_path\u001b[0m\u001b[0;34m,\u001b[0m \u001b[0mmodel_wh\u001b[0m\u001b[0;34m\u001b[0m\u001b[0;34m\u001b[0m\u001b[0m\n",
      "\u001b[0;32m/notebooks/tf-pose-estimation/tf_pose/eval.py\u001b[0m in \u001b[0;36m<module>\u001b[0;34m\u001b[0m\n\u001b[1;32m     11\u001b[0m \u001b[0;34m\u001b[0m\u001b[0m\n\u001b[1;32m     12\u001b[0m \u001b[0;32mfrom\u001b[0m \u001b[0mtf_pose\u001b[0m\u001b[0;34m.\u001b[0m\u001b[0mcommon\u001b[0m \u001b[0;32mimport\u001b[0m \u001b[0mread_imgfile\u001b[0m\u001b[0;34m\u001b[0m\u001b[0;34m\u001b[0m\u001b[0m\n\u001b[0;32m---> 13\u001b[0;31m \u001b[0;32mfrom\u001b[0m \u001b[0mtf_pose\u001b[0m\u001b[0;34m.\u001b[0m\u001b[0mestimator\u001b[0m \u001b[0;32mimport\u001b[0m \u001b[0mTfPoseEstimator\u001b[0m\u001b[0;34m\u001b[0m\u001b[0;34m\u001b[0m\u001b[0m\n\u001b[0m\u001b[1;32m     14\u001b[0m \u001b[0;32mfrom\u001b[0m \u001b[0mtf_pose\u001b[0m\u001b[0;34m.\u001b[0m\u001b[0mnetworks\u001b[0m \u001b[0;32mimport\u001b[0m \u001b[0mmodel_wh\u001b[0m\u001b[0;34m,\u001b[0m \u001b[0mget_graph_path\u001b[0m\u001b[0;34m\u001b[0m\u001b[0;34m\u001b[0m\u001b[0m\n\u001b[1;32m     15\u001b[0m \u001b[0;34m\u001b[0m\u001b[0m\n",
      "\u001b[0;32m/notebooks/tf-pose-estimation/tf_pose/estimator.py\u001b[0m in \u001b[0;36m<module>\u001b[0;34m\u001b[0m\n\u001b[1;32m     13\u001b[0m \u001b[0;32mfrom\u001b[0m \u001b[0mtf_pose\u001b[0m\u001b[0;34m.\u001b[0m\u001b[0mtensblur\u001b[0m\u001b[0;34m.\u001b[0m\u001b[0msmoother\u001b[0m \u001b[0;32mimport\u001b[0m \u001b[0mSmoother\u001b[0m\u001b[0;34m\u001b[0m\u001b[0;34m\u001b[0m\u001b[0m\n\u001b[1;32m     14\u001b[0m \u001b[0mprint\u001b[0m\u001b[0;34m(\u001b[0m\u001b[0mtf\u001b[0m\u001b[0;34m.\u001b[0m\u001b[0m__version__\u001b[0m\u001b[0;34m)\u001b[0m\u001b[0;34m\u001b[0m\u001b[0;34m\u001b[0m\u001b[0m\n\u001b[0;32m---> 15\u001b[0;31m \u001b[0;32mimport\u001b[0m \u001b[0mtensorflow\u001b[0m\u001b[0;34m.\u001b[0m\u001b[0mcontrib\u001b[0m\u001b[0;34m.\u001b[0m\u001b[0mtensorrt\u001b[0m \u001b[0;32mas\u001b[0m \u001b[0mtrt\u001b[0m\u001b[0;34m\u001b[0m\u001b[0;34m\u001b[0m\u001b[0m\n\u001b[0m\u001b[1;32m     16\u001b[0m \u001b[0;31m#from tf.python.compiler.tensorrt import trt_convert as trt\u001b[0m\u001b[0;34m\u001b[0m\u001b[0;34m\u001b[0m\u001b[0;34m\u001b[0m\u001b[0m\n\u001b[1;32m     17\u001b[0m \u001b[0;34m\u001b[0m\u001b[0m\n",
      "\u001b[0;32m/usr/local/lib/python3.6/dist-packages/tensorflow/contrib/tensorrt/__init__.py\u001b[0m in \u001b[0;36m<module>\u001b[0;34m\u001b[0m\n\u001b[1;32m     32\u001b[0m       ' TensorRT ****')\n\u001b[1;32m     33\u001b[0m   \u001b[0mprint\u001b[0m\u001b[0;34m(\u001b[0m\u001b[0mno_trt_message\u001b[0m\u001b[0;34m)\u001b[0m\u001b[0;34m\u001b[0m\u001b[0;34m\u001b[0m\u001b[0m\n\u001b[0;32m---> 34\u001b[0;31m   \u001b[0;32mraise\u001b[0m \u001b[0me\u001b[0m\u001b[0;34m\u001b[0m\u001b[0;34m\u001b[0m\u001b[0m\n\u001b[0m\u001b[1;32m     35\u001b[0m \u001b[0;31m# pylint: enable=unused-import,wildcard-import,g-import-not-at-top\u001b[0m\u001b[0;34m\u001b[0m\u001b[0;34m\u001b[0m\u001b[0;34m\u001b[0m\u001b[0m\n",
      "\u001b[0;32m/usr/local/lib/python3.6/dist-packages/tensorflow/contrib/tensorrt/__init__.py\u001b[0m in \u001b[0;36m<module>\u001b[0;34m\u001b[0m\n\u001b[1;32m     23\u001b[0m \u001b[0;31m# pylint: disable=unused-import,wildcard-import,g-import-not-at-top\u001b[0m\u001b[0;34m\u001b[0m\u001b[0;34m\u001b[0m\u001b[0;34m\u001b[0m\u001b[0m\n\u001b[1;32m     24\u001b[0m \u001b[0;32mtry\u001b[0m\u001b[0;34m:\u001b[0m\u001b[0;34m\u001b[0m\u001b[0;34m\u001b[0m\u001b[0m\n\u001b[0;32m---> 25\u001b[0;31m   \u001b[0;32mfrom\u001b[0m \u001b[0mtensorflow\u001b[0m\u001b[0;34m.\u001b[0m\u001b[0mcontrib\u001b[0m\u001b[0;34m.\u001b[0m\u001b[0mtensorrt\u001b[0m\u001b[0;34m.\u001b[0m\u001b[0mpython\u001b[0m \u001b[0;32mimport\u001b[0m \u001b[0;34m*\u001b[0m\u001b[0;34m\u001b[0m\u001b[0;34m\u001b[0m\u001b[0m\n\u001b[0m\u001b[1;32m     26\u001b[0m \u001b[0;32mexcept\u001b[0m \u001b[0merrors\u001b[0m\u001b[0;34m.\u001b[0m\u001b[0mNotFoundError\u001b[0m \u001b[0;32mas\u001b[0m \u001b[0me\u001b[0m\u001b[0;34m:\u001b[0m\u001b[0;34m\u001b[0m\u001b[0;34m\u001b[0m\u001b[0m\n\u001b[1;32m     27\u001b[0m   no_trt_message = (\n",
      "\u001b[0;32m/usr/local/lib/python3.6/dist-packages/tensorflow/contrib/tensorrt/python/__init__.py\u001b[0m in \u001b[0;36m<module>\u001b[0;34m\u001b[0m\n\u001b[1;32m     20\u001b[0m \u001b[0;34m\u001b[0m\u001b[0m\n\u001b[1;32m     21\u001b[0m \u001b[0;31m# pylint: disable=unused-import,line-too-long\u001b[0m\u001b[0;34m\u001b[0m\u001b[0;34m\u001b[0m\u001b[0;34m\u001b[0m\u001b[0m\n\u001b[0;32m---> 22\u001b[0;31m \u001b[0;32mfrom\u001b[0m \u001b[0mtensorflow\u001b[0m\u001b[0;34m.\u001b[0m\u001b[0mcontrib\u001b[0m\u001b[0;34m.\u001b[0m\u001b[0mtensorrt\u001b[0m\u001b[0;34m.\u001b[0m\u001b[0mpython\u001b[0m\u001b[0;34m.\u001b[0m\u001b[0mops\u001b[0m \u001b[0;32mimport\u001b[0m \u001b[0mtrt_engine_op\u001b[0m\u001b[0;34m\u001b[0m\u001b[0;34m\u001b[0m\u001b[0m\n\u001b[0m\u001b[1;32m     23\u001b[0m \u001b[0;32mfrom\u001b[0m \u001b[0mtensorflow\u001b[0m\u001b[0;34m.\u001b[0m\u001b[0mcontrib\u001b[0m\u001b[0;34m.\u001b[0m\u001b[0mtensorrt\u001b[0m\u001b[0;34m.\u001b[0m\u001b[0mpython\u001b[0m\u001b[0;34m.\u001b[0m\u001b[0mtrt_convert\u001b[0m \u001b[0;32mimport\u001b[0m \u001b[0mcalib_graph_to_infer_graph\u001b[0m\u001b[0;34m\u001b[0m\u001b[0;34m\u001b[0m\u001b[0m\n\u001b[1;32m     24\u001b[0m \u001b[0;32mfrom\u001b[0m \u001b[0mtensorflow\u001b[0m\u001b[0;34m.\u001b[0m\u001b[0mcontrib\u001b[0m\u001b[0;34m.\u001b[0m\u001b[0mtensorrt\u001b[0m\u001b[0;34m.\u001b[0m\u001b[0mpython\u001b[0m\u001b[0;34m.\u001b[0m\u001b[0mtrt_convert\u001b[0m \u001b[0;32mimport\u001b[0m \u001b[0mcreate_inference_graph\u001b[0m\u001b[0;34m\u001b[0m\u001b[0;34m\u001b[0m\u001b[0m\n",
      "\u001b[0;32m/usr/local/lib/python3.6/dist-packages/tensorflow/contrib/tensorrt/python/ops/trt_engine_op.py\u001b[0m in \u001b[0;36m<module>\u001b[0;34m\u001b[0m\n\u001b[1;32m     30\u001b[0m \u001b[0;34m\u001b[0m\u001b[0m\n\u001b[1;32m     31\u001b[0m   _trt_engine_op = loader.load_op_library(\n\u001b[0;32m---> 32\u001b[0;31m       resource_loader.get_path_to_datafile(\"_trt_engine_op.so\"))\n\u001b[0m\u001b[1;32m     33\u001b[0m \u001b[0;32melse\u001b[0m\u001b[0;34m:\u001b[0m\u001b[0;34m\u001b[0m\u001b[0;34m\u001b[0m\u001b[0m\n\u001b[1;32m     34\u001b[0m   \u001b[0;32mraise\u001b[0m \u001b[0mRuntimeError\u001b[0m\u001b[0;34m(\u001b[0m\u001b[0;34m\"Windows platforms are not supported\"\u001b[0m\u001b[0;34m)\u001b[0m\u001b[0;34m\u001b[0m\u001b[0;34m\u001b[0m\u001b[0m\n",
      "\u001b[0;32m/usr/local/lib/python3.6/dist-packages/tensorflow/contrib/util/loader.py\u001b[0m in \u001b[0;36mload_op_library\u001b[0;34m(path)\u001b[0m\n\u001b[1;32m     54\u001b[0m       \u001b[0;32mreturn\u001b[0m \u001b[0;32mNone\u001b[0m\u001b[0;34m\u001b[0m\u001b[0;34m\u001b[0m\u001b[0m\n\u001b[1;32m     55\u001b[0m   \u001b[0mpath\u001b[0m \u001b[0;34m=\u001b[0m \u001b[0mresource_loader\u001b[0m\u001b[0;34m.\u001b[0m\u001b[0mget_path_to_datafile\u001b[0m\u001b[0;34m(\u001b[0m\u001b[0mpath\u001b[0m\u001b[0;34m)\u001b[0m\u001b[0;34m\u001b[0m\u001b[0;34m\u001b[0m\u001b[0m\n\u001b[0;32m---> 56\u001b[0;31m   \u001b[0mret\u001b[0m \u001b[0;34m=\u001b[0m \u001b[0mload_library\u001b[0m\u001b[0;34m.\u001b[0m\u001b[0mload_op_library\u001b[0m\u001b[0;34m(\u001b[0m\u001b[0mpath\u001b[0m\u001b[0;34m)\u001b[0m\u001b[0;34m\u001b[0m\u001b[0;34m\u001b[0m\u001b[0m\n\u001b[0m\u001b[1;32m     57\u001b[0m   \u001b[0;32massert\u001b[0m \u001b[0mret\u001b[0m\u001b[0;34m,\u001b[0m \u001b[0;34m'Could not load %s'\u001b[0m \u001b[0;34m%\u001b[0m \u001b[0mpath\u001b[0m\u001b[0;34m\u001b[0m\u001b[0;34m\u001b[0m\u001b[0m\n\u001b[1;32m     58\u001b[0m   \u001b[0;32mreturn\u001b[0m \u001b[0mret\u001b[0m\u001b[0;34m\u001b[0m\u001b[0;34m\u001b[0m\u001b[0m\n",
      "\u001b[0;32m/usr/local/lib/python3.6/dist-packages/tensorflow/python/framework/load_library.py\u001b[0m in \u001b[0;36mload_op_library\u001b[0;34m(library_filename)\u001b[0m\n\u001b[1;32m     54\u001b[0m     \u001b[0mRuntimeError\u001b[0m\u001b[0;34m:\u001b[0m \u001b[0mwhen\u001b[0m \u001b[0munable\u001b[0m \u001b[0mto\u001b[0m \u001b[0mload\u001b[0m \u001b[0mthe\u001b[0m \u001b[0mlibrary\u001b[0m \u001b[0;32mor\u001b[0m \u001b[0mget\u001b[0m \u001b[0mthe\u001b[0m \u001b[0mpython\u001b[0m \u001b[0mwrappers\u001b[0m\u001b[0;34m.\u001b[0m\u001b[0;34m\u001b[0m\u001b[0;34m\u001b[0m\u001b[0m\n\u001b[1;32m     55\u001b[0m   \"\"\"\n\u001b[0;32m---> 56\u001b[0;31m   \u001b[0mlib_handle\u001b[0m \u001b[0;34m=\u001b[0m \u001b[0mpy_tf\u001b[0m\u001b[0;34m.\u001b[0m\u001b[0mTF_LoadLibrary\u001b[0m\u001b[0;34m(\u001b[0m\u001b[0mlibrary_filename\u001b[0m\u001b[0;34m)\u001b[0m\u001b[0;34m\u001b[0m\u001b[0;34m\u001b[0m\u001b[0m\n\u001b[0m\u001b[1;32m     57\u001b[0m \u001b[0;34m\u001b[0m\u001b[0m\n\u001b[1;32m     58\u001b[0m   \u001b[0mop_list_str\u001b[0m \u001b[0;34m=\u001b[0m \u001b[0mpy_tf\u001b[0m\u001b[0;34m.\u001b[0m\u001b[0mTF_GetOpList\u001b[0m\u001b[0;34m(\u001b[0m\u001b[0mlib_handle\u001b[0m\u001b[0;34m)\u001b[0m\u001b[0;34m\u001b[0m\u001b[0;34m\u001b[0m\u001b[0m\n",
      "\u001b[0;31mNotFoundError\u001b[0m: libnvinfer.so.4: cannot open shared object file: No such file or directory"
     ]
    }
   ],
   "source": [
    "import tf_pose\n",
    "coco_style = tf_pose.infer('./BadDeadLift/download (4).jpeg')\n",
    "type(coco_style)"
   ]
  },
  {
   "cell_type": "code",
   "execution_count": 42,
   "metadata": {
    "collapsed": true
   },
   "outputs": [
    {
     "ename": "SystemExit",
     "evalue": "2",
     "output_type": "error",
     "traceback": [
      "\u001b[0;31m---------------------------------------------------------------------------\u001b[0m",
      "\u001b[0;31mSystemExit\u001b[0m                                Traceback (most recent call last)",
      "\u001b[0;32m<ipython-input-41-507c6476b89b>\u001b[0m in \u001b[0;36m<module>\u001b[0;34m\u001b[0m\n\u001b[1;32m     31\u001b[0m                         help='if provided, resize heatmaps before they are post-processed. default=1.0')\n\u001b[1;32m     32\u001b[0m \u001b[0;34m\u001b[0m\u001b[0m\n\u001b[0;32m---> 33\u001b[0;31m     \u001b[0margs\u001b[0m \u001b[0;34m=\u001b[0m \u001b[0mparser\u001b[0m\u001b[0;34m.\u001b[0m\u001b[0mparse_args\u001b[0m\u001b[0;34m(\u001b[0m\u001b[0;34m)\u001b[0m\u001b[0;34m\u001b[0m\u001b[0;34m\u001b[0m\u001b[0m\n\u001b[0m\u001b[1;32m     34\u001b[0m \u001b[0;34m\u001b[0m\u001b[0m\n\u001b[1;32m     35\u001b[0m     \u001b[0mw\u001b[0m\u001b[0;34m,\u001b[0m \u001b[0mh\u001b[0m \u001b[0;34m=\u001b[0m \u001b[0mmodel_wh\u001b[0m\u001b[0;34m(\u001b[0m\u001b[0margs\u001b[0m\u001b[0;34m.\u001b[0m\u001b[0mresize\u001b[0m\u001b[0;34m)\u001b[0m\u001b[0;34m\u001b[0m\u001b[0;34m\u001b[0m\u001b[0m\n",
      "\u001b[0;32m/usr/lib/python3.6/argparse.py\u001b[0m in \u001b[0;36mparse_args\u001b[0;34m(self, args, namespace)\u001b[0m\n\u001b[1;32m   1744\u001b[0m         \u001b[0;32mif\u001b[0m \u001b[0margv\u001b[0m\u001b[0;34m:\u001b[0m\u001b[0;34m\u001b[0m\u001b[0;34m\u001b[0m\u001b[0m\n\u001b[1;32m   1745\u001b[0m             \u001b[0mmsg\u001b[0m \u001b[0;34m=\u001b[0m \u001b[0m_\u001b[0m\u001b[0;34m(\u001b[0m\u001b[0;34m'unrecognized arguments: %s'\u001b[0m\u001b[0;34m)\u001b[0m\u001b[0;34m\u001b[0m\u001b[0;34m\u001b[0m\u001b[0m\n\u001b[0;32m-> 1746\u001b[0;31m             \u001b[0mself\u001b[0m\u001b[0;34m.\u001b[0m\u001b[0merror\u001b[0m\u001b[0;34m(\u001b[0m\u001b[0mmsg\u001b[0m \u001b[0;34m%\u001b[0m \u001b[0;34m' '\u001b[0m\u001b[0;34m.\u001b[0m\u001b[0mjoin\u001b[0m\u001b[0;34m(\u001b[0m\u001b[0margv\u001b[0m\u001b[0;34m)\u001b[0m\u001b[0;34m)\u001b[0m\u001b[0;34m\u001b[0m\u001b[0;34m\u001b[0m\u001b[0m\n\u001b[0m\u001b[1;32m   1747\u001b[0m         \u001b[0;32mreturn\u001b[0m \u001b[0margs\u001b[0m\u001b[0;34m\u001b[0m\u001b[0;34m\u001b[0m\u001b[0m\n\u001b[1;32m   1748\u001b[0m \u001b[0;34m\u001b[0m\u001b[0m\n",
      "\u001b[0;32m/usr/lib/python3.6/argparse.py\u001b[0m in \u001b[0;36merror\u001b[0;34m(self, message)\u001b[0m\n\u001b[1;32m   2400\u001b[0m         \u001b[0mself\u001b[0m\u001b[0;34m.\u001b[0m\u001b[0mprint_usage\u001b[0m\u001b[0;34m(\u001b[0m\u001b[0m_sys\u001b[0m\u001b[0;34m.\u001b[0m\u001b[0mstderr\u001b[0m\u001b[0;34m)\u001b[0m\u001b[0;34m\u001b[0m\u001b[0;34m\u001b[0m\u001b[0m\n\u001b[1;32m   2401\u001b[0m         \u001b[0margs\u001b[0m \u001b[0;34m=\u001b[0m \u001b[0;34m{\u001b[0m\u001b[0;34m'prog'\u001b[0m\u001b[0;34m:\u001b[0m \u001b[0mself\u001b[0m\u001b[0;34m.\u001b[0m\u001b[0mprog\u001b[0m\u001b[0;34m,\u001b[0m \u001b[0;34m'message'\u001b[0m\u001b[0;34m:\u001b[0m \u001b[0mmessage\u001b[0m\u001b[0;34m}\u001b[0m\u001b[0;34m\u001b[0m\u001b[0;34m\u001b[0m\u001b[0m\n\u001b[0;32m-> 2402\u001b[0;31m         \u001b[0mself\u001b[0m\u001b[0;34m.\u001b[0m\u001b[0mexit\u001b[0m\u001b[0;34m(\u001b[0m\u001b[0;36m2\u001b[0m\u001b[0;34m,\u001b[0m \u001b[0m_\u001b[0m\u001b[0;34m(\u001b[0m\u001b[0;34m'%(prog)s: error: %(message)s\\n'\u001b[0m\u001b[0;34m)\u001b[0m \u001b[0;34m%\u001b[0m \u001b[0margs\u001b[0m\u001b[0;34m)\u001b[0m\u001b[0;34m\u001b[0m\u001b[0;34m\u001b[0m\u001b[0m\n\u001b[0m",
      "\u001b[0;32m/usr/lib/python3.6/argparse.py\u001b[0m in \u001b[0;36mexit\u001b[0;34m(self, status, message)\u001b[0m\n\u001b[1;32m   2387\u001b[0m         \u001b[0;32mif\u001b[0m \u001b[0mmessage\u001b[0m\u001b[0;34m:\u001b[0m\u001b[0;34m\u001b[0m\u001b[0;34m\u001b[0m\u001b[0m\n\u001b[1;32m   2388\u001b[0m             \u001b[0mself\u001b[0m\u001b[0;34m.\u001b[0m\u001b[0m_print_message\u001b[0m\u001b[0;34m(\u001b[0m\u001b[0mmessage\u001b[0m\u001b[0;34m,\u001b[0m \u001b[0m_sys\u001b[0m\u001b[0;34m.\u001b[0m\u001b[0mstderr\u001b[0m\u001b[0;34m)\u001b[0m\u001b[0;34m\u001b[0m\u001b[0;34m\u001b[0m\u001b[0m\n\u001b[0;32m-> 2389\u001b[0;31m         \u001b[0m_sys\u001b[0m\u001b[0;34m.\u001b[0m\u001b[0mexit\u001b[0m\u001b[0;34m(\u001b[0m\u001b[0mstatus\u001b[0m\u001b[0;34m)\u001b[0m\u001b[0;34m\u001b[0m\u001b[0;34m\u001b[0m\u001b[0m\n\u001b[0m\u001b[1;32m   2390\u001b[0m \u001b[0;34m\u001b[0m\u001b[0m\n\u001b[1;32m   2391\u001b[0m     \u001b[0;32mdef\u001b[0m \u001b[0merror\u001b[0m\u001b[0;34m(\u001b[0m\u001b[0mself\u001b[0m\u001b[0;34m,\u001b[0m \u001b[0mmessage\u001b[0m\u001b[0;34m)\u001b[0m\u001b[0;34m:\u001b[0m\u001b[0;34m\u001b[0m\u001b[0;34m\u001b[0m\u001b[0m\n",
      "\u001b[0;31mSystemExit\u001b[0m: 2"
     ]
    }
   ],
   "source": [
    "%tb"
   ]
  },
  {
   "cell_type": "code",
   "execution_count": 45,
   "metadata": {
    "collapsed": true
   },
   "outputs": [
    {
     "name": "stdout",
     "output_type": "stream",
     "text": [
      "BadDeadLift\t__init__.py  models\t\trun_video.py\r\n",
      "CMakeLists.txt\tbuild\t     msg\t\trun_webcam.py\r\n",
      "Coach.ipynb\tdist\t     package.xml\tscripts\r\n",
      "Dockerfile\tdocker\t     requirements.txt\tsetup.py\r\n",
      "GoodDeadLift\tetcs\t     run.py\t\ttf_pose\r\n",
      "LICENSE\t\timages\t     run_checkpoint.py\ttf_pose.egg-info\r\n",
      "README.md\tlaunch\t     run_directory.py\r\n"
     ]
    }
   ],
   "source": [
    "!ls"
   ]
  },
  {
   "cell_type": "code",
   "execution_count": 21,
   "metadata": {
    "collapsed": true
   },
   "outputs": [
    {
     "name": "stdout",
     "output_type": "stream",
     "text": [
      "Traceback (most recent call last):\r\n",
      "  File \"/usr/local/lib/python3.6/dist-packages/tensorflow/python/pywrap_tensorflow.py\", line 58, in <module>\r\n",
      "    from tensorflow.python.pywrap_tensorflow_internal import *\r\n",
      "  File \"/usr/local/lib/python3.6/dist-packages/tensorflow/python/pywrap_tensorflow_internal.py\", line 28, in <module>\r\n",
      "    _pywrap_tensorflow_internal = swig_import_helper()\r\n",
      "  File \"/usr/local/lib/python3.6/dist-packages/tensorflow/python/pywrap_tensorflow_internal.py\", line 24, in swig_import_helper\r\n",
      "    _mod = imp.load_module('_pywrap_tensorflow_internal', fp, pathname, description)\r\n",
      "  File \"/usr/lib/python3.6/imp.py\", line 243, in load_module\r\n",
      "    return load_dynamic(name, filename, file)\r\n",
      "  File \"/usr/lib/python3.6/imp.py\", line 343, in load_dynamic\r\n",
      "    return _load(spec)\r\n",
      "ImportError: libcublas.so.9.0: cannot open shared object file: No such file or directory\r\n",
      "\r\n",
      "During handling of the above exception, another exception occurred:\r\n",
      "\r\n",
      "Traceback (most recent call last):\r\n",
      "  File \"run.py\", line 6, in <module>\r\n",
      "    from tf_pose import common\r\n",
      "  File \"/notebooks/tf-pose-estimation/tf_pose/__init__.py\", line 5, in <module>\r\n",
      "    from tf_pose.runner import infer, Estimator, get_estimator\r\n",
      "  File \"/notebooks/tf-pose-estimation/tf_pose/runner.py\", line 7, in <module>\r\n",
      "    from tf_pose import common\r\n",
      "  File \"/notebooks/tf-pose-estimation/tf_pose/common.py\", line 3, in <module>\r\n",
      "    import tensorflow as tf\r\n",
      "  File \"/usr/local/lib/python3.6/dist-packages/tensorflow/__init__.py\", line 24, in <module>\r\n",
      "    from tensorflow.python import pywrap_tensorflow  # pylint: disable=unused-import\r\n",
      "  File \"/usr/local/lib/python3.6/dist-packages/tensorflow/python/__init__.py\", line 49, in <module>\r\n",
      "    from tensorflow.python import pywrap_tensorflow\r\n",
      "  File \"/usr/local/lib/python3.6/dist-packages/tensorflow/python/pywrap_tensorflow.py\", line 74, in <module>\r\n",
      "    raise ImportError(msg)\r\n",
      "ImportError: Traceback (most recent call last):\r\n",
      "  File \"/usr/local/lib/python3.6/dist-packages/tensorflow/python/pywrap_tensorflow.py\", line 58, in <module>\r\n",
      "    from tensorflow.python.pywrap_tensorflow_internal import *\r\n",
      "  File \"/usr/local/lib/python3.6/dist-packages/tensorflow/python/pywrap_tensorflow_internal.py\", line 28, in <module>\r\n",
      "    _pywrap_tensorflow_internal = swig_import_helper()\r\n",
      "  File \"/usr/local/lib/python3.6/dist-packages/tensorflow/python/pywrap_tensorflow_internal.py\", line 24, in swig_import_helper\r\n",
      "    _mod = imp.load_module('_pywrap_tensorflow_internal', fp, pathname, description)\r\n",
      "  File \"/usr/lib/python3.6/imp.py\", line 243, in load_module\r\n",
      "    return load_dynamic(name, filename, file)\r\n",
      "  File \"/usr/lib/python3.6/imp.py\", line 343, in load_dynamic\r\n",
      "    return _load(spec)\r\n",
      "ImportError: libcublas.so.9.0: cannot open shared object file: No such file or directory\r\n",
      "\r\n",
      "\r\n",
      "Failed to load the native TensorFlow runtime.\r\n",
      "\r\n",
      "See https://www.tensorflow.org/install/install_sources#common_installation_problems\r\n",
      "\r\n",
      "for some common reasons and solutions.  Include the entire stack trace\r\n",
      "above this error message when asking for help.\r\n"
     ]
    }
   ],
   "source": [
    "!python run.py --image=images/validperson1.jpeg"
   ]
  },
  {
   "cell_type": "code",
   "execution_count": 36,
   "metadata": {
    "collapsed": true
   },
   "outputs": [
    {
     "name": "stdout",
     "output_type": "stream",
     "text": [
      "Traceback (most recent call last):\r\n",
      "  File \"/usr/local/lib/python3.6/dist-packages/tensorflow/python/pywrap_tensorflow.py\", line 58, in <module>\r\n",
      "    from tensorflow.python.pywrap_tensorflow_internal import *\r\n",
      "  File \"/usr/local/lib/python3.6/dist-packages/tensorflow/python/pywrap_tensorflow_internal.py\", line 28, in <module>\r\n",
      "    _pywrap_tensorflow_internal = swig_import_helper()\r\n",
      "  File \"/usr/local/lib/python3.6/dist-packages/tensorflow/python/pywrap_tensorflow_internal.py\", line 24, in swig_import_helper\r\n",
      "    _mod = imp.load_module('_pywrap_tensorflow_internal', fp, pathname, description)\r\n",
      "  File \"/usr/lib/python3.6/imp.py\", line 243, in load_module\r\n",
      "    return load_dynamic(name, filename, file)\r\n",
      "  File \"/usr/lib/python3.6/imp.py\", line 343, in load_dynamic\r\n",
      "    return _load(spec)\r\n",
      "ImportError: libcublas.so.9.0: cannot open shared object file: No such file or directory\r\n",
      "\r\n",
      "During handling of the above exception, another exception occurred:\r\n",
      "\r\n",
      "Traceback (most recent call last):\r\n",
      "  File \"run.py\", line 6, in <module>\r\n",
      "    from tf_pose import common\r\n",
      "  File \"/notebooks/tf-pose-estimation/tf_pose/__init__.py\", line 5, in <module>\r\n",
      "    from tf_pose.runner import infer, Estimator, get_estimator\r\n",
      "  File \"/notebooks/tf-pose-estimation/tf_pose/runner.py\", line 7, in <module>\r\n",
      "    from tf_pose import common\r\n",
      "  File \"/notebooks/tf-pose-estimation/tf_pose/common.py\", line 3, in <module>\r\n",
      "    import tensorflow as tf\r\n",
      "  File \"/usr/local/lib/python3.6/dist-packages/tensorflow/__init__.py\", line 24, in <module>\r\n",
      "    from tensorflow.python import pywrap_tensorflow  # pylint: disable=unused-import\r\n",
      "  File \"/usr/local/lib/python3.6/dist-packages/tensorflow/python/__init__.py\", line 49, in <module>\r\n",
      "    from tensorflow.python import pywrap_tensorflow\r\n",
      "  File \"/usr/local/lib/python3.6/dist-packages/tensorflow/python/pywrap_tensorflow.py\", line 74, in <module>\r\n",
      "    raise ImportError(msg)\r\n",
      "ImportError: Traceback (most recent call last):\r\n",
      "  File \"/usr/local/lib/python3.6/dist-packages/tensorflow/python/pywrap_tensorflow.py\", line 58, in <module>\r\n",
      "    from tensorflow.python.pywrap_tensorflow_internal import *\r\n",
      "  File \"/usr/local/lib/python3.6/dist-packages/tensorflow/python/pywrap_tensorflow_internal.py\", line 28, in <module>\r\n",
      "    _pywrap_tensorflow_internal = swig_import_helper()\r\n",
      "  File \"/usr/local/lib/python3.6/dist-packages/tensorflow/python/pywrap_tensorflow_internal.py\", line 24, in swig_import_helper\r\n",
      "    _mod = imp.load_module('_pywrap_tensorflow_internal', fp, pathname, description)\r\n",
      "  File \"/usr/lib/python3.6/imp.py\", line 243, in load_module\r\n",
      "    return load_dynamic(name, filename, file)\r\n",
      "  File \"/usr/lib/python3.6/imp.py\", line 343, in load_dynamic\r\n",
      "    return _load(spec)\r\n",
      "ImportError: libcublas.so.9.0: cannot open shared object file: No such file or directory\r\n",
      "\r\n",
      "\r\n",
      "Failed to load the native TensorFlow runtime.\r\n",
      "\r\n",
      "See https://www.tensorflow.org/install/install_sources#common_installation_problems\r\n",
      "\r\n",
      "for some common reasons and solutions.  Include the entire stack trace\r\n",
      "above this error message when asking for help.\r\n"
     ]
    }
   ],
   "source": [
    "!python run.py --model=mobilenet_thin --resize=432x368 --image=./images/p1.jpg"
   ]
  },
  {
   "cell_type": "code",
   "execution_count": 30,
   "metadata": {
    "collapsed": true
   },
   "outputs": [
    {
     "name": "stdout",
     "output_type": "stream",
     "text": [
      "Collecting git+https://github.com/ppwwyyxx/tensorpack.git (from -r requirements.txt (line 13))\n",
      "  Cloning https://github.com/ppwwyyxx/tensorpack.git to /tmp/pip-req-build-ruxh3e9j\n",
      "  Running command git clone -q https://github.com/ppwwyyxx/tensorpack.git /tmp/pip-req-build-ruxh3e9j\n",
      "Requirement already satisfied (use --upgrade to upgrade): tensorpack==0.10 from git+https://github.com/ppwwyyxx/tensorpack.git in /usr/local/lib/python3.6/dist-packages (from -r requirements.txt (line 13))\n",
      "Requirement already satisfied: argparse in /usr/local/lib/python3.6/dist-packages (from -r requirements.txt (line 1)) (1.4.0)\n",
      "Requirement already satisfied: dill in /usr/local/lib/python3.6/dist-packages (from -r requirements.txt (line 2)) (0.2.7.1)\n",
      "Requirement already satisfied: fire in /usr/local/lib/python3.6/dist-packages (from -r requirements.txt (line 3)) (0.3.1)\n",
      "Requirement already satisfied: matplotlib in /usr/local/lib/python3.6/dist-packages (from -r requirements.txt (line 4)) (3.1.1)\n",
      "Requirement already satisfied: numba in /usr/local/lib/python3.6/dist-packages (from -r requirements.txt (line 5)) (0.48.0)\n",
      "Requirement already satisfied: psutil in /usr/local/lib/python3.6/dist-packages (from -r requirements.txt (line 6)) (5.7.0)\n",
      "Requirement already satisfied: pycocotools in /usr/local/lib/python3.6/dist-packages (from -r requirements.txt (line 7)) (2.0.0)\n",
      "Requirement already satisfied: requests in /usr/local/lib/python3.6/dist-packages (from -r requirements.txt (line 8)) (2.23.0)\n",
      "Requirement already satisfied: scikit-image in /usr/local/lib/python3.6/dist-packages (from -r requirements.txt (line 9)) (0.16.2)\n",
      "Requirement already satisfied: scipy in /usr/local/lib/python3.6/dist-packages (from -r requirements.txt (line 10)) (1.3.0)\n",
      "Requirement already satisfied: slidingwindow in /usr/local/lib/python3.6/dist-packages (from -r requirements.txt (line 11)) (0.0.13)\n",
      "Requirement already satisfied: tqdm in /usr/local/lib/python3.6/dist-packages (from -r requirements.txt (line 12)) (4.45.0)\n",
      "Requirement already satisfied: numpy>=1.14 in /usr/local/lib/python3.6/dist-packages (from tensorpack==0.10->-r requirements.txt (line 13)) (1.18.2)\n",
      "Requirement already satisfied: six in /usr/local/lib/python3.6/dist-packages (from tensorpack==0.10->-r requirements.txt (line 13)) (1.14.0)\n",
      "Requirement already satisfied: termcolor>=1.1 in /usr/local/lib/python3.6/dist-packages (from tensorpack==0.10->-r requirements.txt (line 13)) (1.1.0)\n",
      "Requirement already satisfied: tabulate>=0.7.7 in /usr/local/lib/python3.6/dist-packages (from tensorpack==0.10->-r requirements.txt (line 13)) (0.8.7)\n",
      "Requirement already satisfied: msgpack>=0.5.2 in /usr/local/lib/python3.6/dist-packages (from tensorpack==0.10->-r requirements.txt (line 13)) (1.0.0)\n",
      "Requirement already satisfied: msgpack-numpy>=0.4.4.2 in /usr/local/lib/python3.6/dist-packages (from tensorpack==0.10->-r requirements.txt (line 13)) (0.4.5)\n",
      "Requirement already satisfied: pyzmq>=16 in /usr/local/lib/python3.6/dist-packages (from tensorpack==0.10->-r requirements.txt (line 13)) (18.0.2)\n",
      "Requirement already satisfied: kiwisolver>=1.0.1 in /usr/local/lib/python3.6/dist-packages (from matplotlib->-r requirements.txt (line 4)) (1.1.0)\n",
      "Requirement already satisfied: pyparsing!=2.0.4,!=2.1.2,!=2.1.6,>=2.0.1 in /usr/local/lib/python3.6/dist-packages (from matplotlib->-r requirements.txt (line 4)) (2.4.2)\n",
      "Requirement already satisfied: cycler>=0.10 in /usr/local/lib/python3.6/dist-packages (from matplotlib->-r requirements.txt (line 4)) (0.10.0)\n",
      "Requirement already satisfied: python-dateutil>=2.1 in /usr/local/lib/python3.6/dist-packages (from matplotlib->-r requirements.txt (line 4)) (2.8.0)\n",
      "Requirement already satisfied: llvmlite<0.32.0,>=0.31.0dev0 in /usr/local/lib/python3.6/dist-packages (from numba->-r requirements.txt (line 5)) (0.31.0)\n",
      "Requirement already satisfied: setuptools in /usr/local/lib/python3.6/dist-packages (from numba->-r requirements.txt (line 5)) (46.1.3)\n",
      "Requirement already satisfied: urllib3!=1.25.0,!=1.25.1,<1.26,>=1.21.1 in /usr/local/lib/python3.6/dist-packages (from requests->-r requirements.txt (line 8)) (1.25.9)\n",
      "Requirement already satisfied: chardet<4,>=3.0.2 in /usr/local/lib/python3.6/dist-packages (from requests->-r requirements.txt (line 8)) (3.0.4)\n",
      "Requirement already satisfied: certifi>=2017.4.17 in /usr/local/lib/python3.6/dist-packages (from requests->-r requirements.txt (line 8)) (2020.4.5.1)\n",
      "Requirement already satisfied: idna<3,>=2.5 in /usr/local/lib/python3.6/dist-packages (from requests->-r requirements.txt (line 8)) (2.9)\n",
      "Requirement already satisfied: imageio>=2.3.0 in /usr/local/lib/python3.6/dist-packages (from scikit-image->-r requirements.txt (line 9)) (2.8.0)\n",
      "Requirement already satisfied: networkx>=2.0 in /usr/local/lib/python3.6/dist-packages (from scikit-image->-r requirements.txt (line 9)) (2.4)\n",
      "Requirement already satisfied: pillow>=4.3.0 in /usr/local/lib/python3.6/dist-packages (from scikit-image->-r requirements.txt (line 9)) (7.1.1)\n",
      "Requirement already satisfied: PyWavelets>=0.4.0 in /usr/local/lib/python3.6/dist-packages (from scikit-image->-r requirements.txt (line 9)) (1.1.1)\n",
      "Requirement already satisfied: decorator>=4.3.0 in /usr/local/lib/python3.6/dist-packages (from networkx>=2.0->scikit-image->-r requirements.txt (line 9)) (4.4.0)\n",
      "Building wheels for collected packages: tensorpack\n",
      "  Building wheel for tensorpack (setup.py) ... \u001b[?25ldone\n",
      "\u001b[?25h  Created wheel for tensorpack: filename=tensorpack-0.10-py2.py3-none-any.whl size=290958 sha256=62cdf74ca0671bd74dc3eb812f52c8ece3ef7fc1717e0cb7bab24168a338ef51\n",
      "  Stored in directory: /tmp/pip-ephem-wheel-cache-06j9f3yz/wheels/75/5c/ed/5bb9487a4466e63984140b9563f3cfb62eaab4194eda5f3ea5\n",
      "Successfully built tensorpack\n"
     ]
    }
   ],
   "source": [
    "!pip3 install -r requirements.txt"
   ]
  },
  {
   "cell_type": "code",
   "execution_count": 25,
   "metadata": {
    "collapsed": true
   },
   "outputs": [
    {
     "name": "stdout",
     "output_type": "stream",
     "text": [
      "--2020-04-17 22:00:46--  http://download692.mediafire.com/8qxvy8xdwtag/qlzzr20mpocnpa3/graph_opt.pb\n",
      "Resolving download692.mediafire.com (download692.mediafire.com)... 205.196.120.140\n",
      "Connecting to download692.mediafire.com (download692.mediafire.com)|205.196.120.140|:80... connected.\n",
      "HTTP request sent, awaiting response... 206 Partial Content\n",
      "Retrying.\n",
      "\n",
      "--2020-04-17 22:00:48--  (try: 2)  http://download692.mediafire.com/8qxvy8xdwtag/qlzzr20mpocnpa3/graph_opt.pb\n",
      "Connecting to download692.mediafire.com (download692.mediafire.com)|205.196.120.140|:80... connected.\n",
      "HTTP request sent, awaiting response... 206 Partial Content\n",
      "Giving up.\n",
      "\n",
      "running install\n",
      "running bdist_egg\n",
      "running egg_info\n",
      "writing tf_pose.egg-info/PKG-INFO\n",
      "writing dependency_links to tf_pose.egg-info/dependency_links.txt\n",
      "writing requirements to tf_pose.egg-info/requires.txt\n",
      "writing top-level names to tf_pose.egg-info/top_level.txt\n",
      "file pafprocess.py (for module pafprocess) not found\n",
      "reading manifest file 'tf_pose.egg-info/SOURCES.txt'\n",
      "writing manifest file 'tf_pose.egg-info/SOURCES.txt'\n",
      "installing library code to build/bdist.linux-x86_64/egg\n",
      "running install_lib\n",
      "running build_py\n",
      "file pafprocess.py (for module pafprocess) not found\n",
      "copying tf_pose/estimator.py -> build/lib.linux-x86_64-3.6/tf_pose\n",
      "file pafprocess.py (for module pafprocess) not found\n",
      "running build_ext\n",
      "creating build/bdist.linux-x86_64/egg\n",
      "creating build/bdist.linux-x86_64/egg/tf_pose\n",
      "creating build/bdist.linux-x86_64/egg/tf_pose/mobilenet\n",
      "copying build/lib.linux-x86_64-3.6/tf_pose/mobilenet/__init__.py -> build/bdist.linux-x86_64/egg/tf_pose/mobilenet\n",
      "copying build/lib.linux-x86_64-3.6/tf_pose/mobilenet/conv_blocks.py -> build/bdist.linux-x86_64/egg/tf_pose/mobilenet\n",
      "copying build/lib.linux-x86_64-3.6/tf_pose/mobilenet/mobilenet.py -> build/bdist.linux-x86_64/egg/tf_pose/mobilenet\n",
      "copying build/lib.linux-x86_64-3.6/tf_pose/mobilenet/mobilenet_v2.py -> build/bdist.linux-x86_64/egg/tf_pose/mobilenet\n",
      "creating build/bdist.linux-x86_64/egg/tf_pose/pafprocess\n",
      "copying build/lib.linux-x86_64-3.6/tf_pose/pafprocess/__init__.py -> build/bdist.linux-x86_64/egg/tf_pose/pafprocess\n",
      "copying build/lib.linux-x86_64-3.6/tf_pose/pafprocess/setup.py -> build/bdist.linux-x86_64/egg/tf_pose/pafprocess\n",
      "copying build/lib.linux-x86_64-3.6/tf_pose/pafprocess/pafprocess.py -> build/bdist.linux-x86_64/egg/tf_pose/pafprocess\n",
      "creating build/bdist.linux-x86_64/egg/tf_pose/slidingwindow\n",
      "copying build/lib.linux-x86_64-3.6/tf_pose/slidingwindow/ArrayUtils.py -> build/bdist.linux-x86_64/egg/tf_pose/slidingwindow\n",
      "copying build/lib.linux-x86_64-3.6/tf_pose/slidingwindow/Batching.py -> build/bdist.linux-x86_64/egg/tf_pose/slidingwindow\n",
      "copying build/lib.linux-x86_64-3.6/tf_pose/slidingwindow/Merging.py -> build/bdist.linux-x86_64/egg/tf_pose/slidingwindow\n",
      "copying build/lib.linux-x86_64-3.6/tf_pose/slidingwindow/RectangleUtils.py -> build/bdist.linux-x86_64/egg/tf_pose/slidingwindow\n",
      "copying build/lib.linux-x86_64-3.6/tf_pose/slidingwindow/SlidingWindow.py -> build/bdist.linux-x86_64/egg/tf_pose/slidingwindow\n",
      "copying build/lib.linux-x86_64-3.6/tf_pose/slidingwindow/WindowDistance.py -> build/bdist.linux-x86_64/egg/tf_pose/slidingwindow\n",
      "copying build/lib.linux-x86_64-3.6/tf_pose/slidingwindow/__init__.py -> build/bdist.linux-x86_64/egg/tf_pose/slidingwindow\n",
      "creating build/bdist.linux-x86_64/egg/tf_pose/tensblur\n",
      "copying build/lib.linux-x86_64-3.6/tf_pose/tensblur/__init__.py -> build/bdist.linux-x86_64/egg/tf_pose/tensblur\n",
      "copying build/lib.linux-x86_64-3.6/tf_pose/tensblur/smoother.py -> build/bdist.linux-x86_64/egg/tf_pose/tensblur\n",
      "copying build/lib.linux-x86_64-3.6/tf_pose/__init__.py -> build/bdist.linux-x86_64/egg/tf_pose\n",
      "copying build/lib.linux-x86_64-3.6/tf_pose/common.py -> build/bdist.linux-x86_64/egg/tf_pose\n",
      "copying build/lib.linux-x86_64-3.6/tf_pose/datum_pb2.py -> build/bdist.linux-x86_64/egg/tf_pose\n",
      "copying build/lib.linux-x86_64-3.6/tf_pose/eval.py -> build/bdist.linux-x86_64/egg/tf_pose\n",
      "copying build/lib.linux-x86_64-3.6/tf_pose/network_base.py -> build/bdist.linux-x86_64/egg/tf_pose\n",
      "copying build/lib.linux-x86_64-3.6/tf_pose/network_cmu.py -> build/bdist.linux-x86_64/egg/tf_pose\n",
      "copying build/lib.linux-x86_64-3.6/tf_pose/network_dsconv.py -> build/bdist.linux-x86_64/egg/tf_pose\n",
      "copying build/lib.linux-x86_64-3.6/tf_pose/network_mobilenet.py -> build/bdist.linux-x86_64/egg/tf_pose\n",
      "copying build/lib.linux-x86_64-3.6/tf_pose/network_mobilenet_thin.py -> build/bdist.linux-x86_64/egg/tf_pose\n",
      "copying build/lib.linux-x86_64-3.6/tf_pose/network_mobilenet_v2.py -> build/bdist.linux-x86_64/egg/tf_pose\n",
      "copying build/lib.linux-x86_64-3.6/tf_pose/networks.py -> build/bdist.linux-x86_64/egg/tf_pose\n",
      "copying build/lib.linux-x86_64-3.6/tf_pose/pose_augment.py -> build/bdist.linux-x86_64/egg/tf_pose\n",
      "copying build/lib.linux-x86_64-3.6/tf_pose/pose_dataset.py -> build/bdist.linux-x86_64/egg/tf_pose\n",
      "copying build/lib.linux-x86_64-3.6/tf_pose/pystopwatch.py -> build/bdist.linux-x86_64/egg/tf_pose\n",
      "copying build/lib.linux-x86_64-3.6/tf_pose/runner.py -> build/bdist.linux-x86_64/egg/tf_pose\n",
      "copying build/lib.linux-x86_64-3.6/tf_pose/train.py -> build/bdist.linux-x86_64/egg/tf_pose\n",
      "copying build/lib.linux-x86_64-3.6/tf_pose/estimator.py -> build/bdist.linux-x86_64/egg/tf_pose\n",
      "creating build/bdist.linux-x86_64/egg/tf_pose_data\n",
      "copying build/lib.linux-x86_64-3.6/tf_pose_data/__init__.py -> build/bdist.linux-x86_64/egg/tf_pose_data\n",
      "creating build/bdist.linux-x86_64/egg/tf_pose_data/graph\n",
      "creating build/bdist.linux-x86_64/egg/tf_pose_data/graph/cmu\n",
      "copying build/lib.linux-x86_64-3.6/tf_pose_data/graph/cmu/graph_opt.pb -> build/bdist.linux-x86_64/egg/tf_pose_data/graph/cmu\n",
      "creating build/bdist.linux-x86_64/egg/tf_pose_data/graph/mobilenet_thin\n",
      "copying build/lib.linux-x86_64-3.6/tf_pose_data/graph/mobilenet_thin/graph_opt.pb -> build/bdist.linux-x86_64/egg/tf_pose_data/graph/mobilenet_thin\n",
      "copying build/lib.linux-x86_64-3.6/_pafprocess.cpython-36m-x86_64-linux-gnu.so -> build/bdist.linux-x86_64/egg\n",
      "byte-compiling build/bdist.linux-x86_64/egg/tf_pose/mobilenet/__init__.py to __init__.cpython-36.pyc\n",
      "byte-compiling build/bdist.linux-x86_64/egg/tf_pose/mobilenet/conv_blocks.py to conv_blocks.cpython-36.pyc\n",
      "byte-compiling build/bdist.linux-x86_64/egg/tf_pose/mobilenet/mobilenet.py to mobilenet.cpython-36.pyc\n",
      "byte-compiling build/bdist.linux-x86_64/egg/tf_pose/mobilenet/mobilenet_v2.py to mobilenet_v2.cpython-36.pyc\n",
      "byte-compiling build/bdist.linux-x86_64/egg/tf_pose/pafprocess/__init__.py to __init__.cpython-36.pyc\n",
      "byte-compiling build/bdist.linux-x86_64/egg/tf_pose/pafprocess/setup.py to setup.cpython-36.pyc\n",
      "byte-compiling build/bdist.linux-x86_64/egg/tf_pose/pafprocess/pafprocess.py to pafprocess.cpython-36.pyc\n",
      "byte-compiling build/bdist.linux-x86_64/egg/tf_pose/slidingwindow/ArrayUtils.py to ArrayUtils.cpython-36.pyc\n",
      "byte-compiling build/bdist.linux-x86_64/egg/tf_pose/slidingwindow/Batching.py to Batching.cpython-36.pyc\n",
      "byte-compiling build/bdist.linux-x86_64/egg/tf_pose/slidingwindow/Merging.py to Merging.cpython-36.pyc\n",
      "byte-compiling build/bdist.linux-x86_64/egg/tf_pose/slidingwindow/RectangleUtils.py to RectangleUtils.cpython-36.pyc\n",
      "byte-compiling build/bdist.linux-x86_64/egg/tf_pose/slidingwindow/SlidingWindow.py to SlidingWindow.cpython-36.pyc\n",
      "byte-compiling build/bdist.linux-x86_64/egg/tf_pose/slidingwindow/WindowDistance.py to WindowDistance.cpython-36.pyc\n",
      "byte-compiling build/bdist.linux-x86_64/egg/tf_pose/slidingwindow/__init__.py to __init__.cpython-36.pyc\n",
      "byte-compiling build/bdist.linux-x86_64/egg/tf_pose/tensblur/__init__.py to __init__.cpython-36.pyc\n",
      "byte-compiling build/bdist.linux-x86_64/egg/tf_pose/tensblur/smoother.py to smoother.cpython-36.pyc\n",
      "byte-compiling build/bdist.linux-x86_64/egg/tf_pose/__init__.py to __init__.cpython-36.pyc\n",
      "byte-compiling build/bdist.linux-x86_64/egg/tf_pose/common.py to common.cpython-36.pyc\n",
      "byte-compiling build/bdist.linux-x86_64/egg/tf_pose/datum_pb2.py to datum_pb2.cpython-36.pyc\n",
      "byte-compiling build/bdist.linux-x86_64/egg/tf_pose/eval.py to eval.cpython-36.pyc\n",
      "byte-compiling build/bdist.linux-x86_64/egg/tf_pose/network_base.py to network_base.cpython-36.pyc\n",
      "byte-compiling build/bdist.linux-x86_64/egg/tf_pose/network_cmu.py to network_cmu.cpython-36.pyc\n",
      "byte-compiling build/bdist.linux-x86_64/egg/tf_pose/network_dsconv.py to network_dsconv.cpython-36.pyc\n",
      "byte-compiling build/bdist.linux-x86_64/egg/tf_pose/network_mobilenet.py to network_mobilenet.cpython-36.pyc\n",
      "byte-compiling build/bdist.linux-x86_64/egg/tf_pose/network_mobilenet_thin.py to network_mobilenet_thin.cpython-36.pyc\n",
      "byte-compiling build/bdist.linux-x86_64/egg/tf_pose/network_mobilenet_v2.py to network_mobilenet_v2.cpython-36.pyc\n",
      "byte-compiling build/bdist.linux-x86_64/egg/tf_pose/networks.py to networks.cpython-36.pyc\n",
      "byte-compiling build/bdist.linux-x86_64/egg/tf_pose/pose_augment.py to pose_augment.cpython-36.pyc\n",
      "byte-compiling build/bdist.linux-x86_64/egg/tf_pose/pose_dataset.py to pose_dataset.cpython-36.pyc\n",
      "byte-compiling build/bdist.linux-x86_64/egg/tf_pose/pystopwatch.py to pystopwatch.cpython-36.pyc\n",
      "byte-compiling build/bdist.linux-x86_64/egg/tf_pose/runner.py to runner.cpython-36.pyc\n",
      "byte-compiling build/bdist.linux-x86_64/egg/tf_pose/train.py to train.cpython-36.pyc\n",
      "byte-compiling build/bdist.linux-x86_64/egg/tf_pose/estimator.py to estimator.cpython-36.pyc\n",
      "byte-compiling build/bdist.linux-x86_64/egg/tf_pose_data/__init__.py to __init__.cpython-36.pyc\n",
      "creating stub loader for _pafprocess.cpython-36m-x86_64-linux-gnu.so\n",
      "byte-compiling build/bdist.linux-x86_64/egg/_pafprocess.py to _pafprocess.cpython-36.pyc\n",
      "creating build/bdist.linux-x86_64/egg/EGG-INFO\n"
     ]
    },
    {
     "name": "stdout",
     "output_type": "stream",
     "text": [
      "copying tf_pose.egg-info/PKG-INFO -> build/bdist.linux-x86_64/egg/EGG-INFO\n",
      "copying tf_pose.egg-info/SOURCES.txt -> build/bdist.linux-x86_64/egg/EGG-INFO\n",
      "copying tf_pose.egg-info/dependency_links.txt -> build/bdist.linux-x86_64/egg/EGG-INFO\n",
      "copying tf_pose.egg-info/not-zip-safe -> build/bdist.linux-x86_64/egg/EGG-INFO\n",
      "copying tf_pose.egg-info/requires.txt -> build/bdist.linux-x86_64/egg/EGG-INFO\n",
      "copying tf_pose.egg-info/top_level.txt -> build/bdist.linux-x86_64/egg/EGG-INFO\n",
      "writing build/bdist.linux-x86_64/egg/EGG-INFO/native_libs.txt\n",
      "creating 'dist/tf_pose-0.1.1-py3.6-linux-x86_64.egg' and adding 'build/bdist.linux-x86_64/egg' to it\n",
      "removing 'build/bdist.linux-x86_64/egg' (and everything under it)\n",
      "Processing tf_pose-0.1.1-py3.6-linux-x86_64.egg\n",
      "removing '/usr/local/lib/python3.6/dist-packages/tf_pose-0.1.1-py3.6-linux-x86_64.egg' (and everything under it)\n",
      "creating /usr/local/lib/python3.6/dist-packages/tf_pose-0.1.1-py3.6-linux-x86_64.egg\n",
      "Extracting tf_pose-0.1.1-py3.6-linux-x86_64.egg to /usr/local/lib/python3.6/dist-packages\n",
      "tf-pose 0.1.1 is already the active version in easy-install.pth\n",
      "\n",
      "Installed /usr/local/lib/python3.6/dist-packages/tf_pose-0.1.1-py3.6-linux-x86_64.egg\n",
      "Processing dependencies for tf-pose==0.1.1\n",
      "Searching for pycocotools==2.0.0\n",
      "Best match: pycocotools 2.0.0\n",
      "Adding pycocotools 2.0.0 to easy-install.pth file\n",
      "\n",
      "Using /usr/local/lib/python3.6/dist-packages\n",
      "Searching for tensorpack==0.10\n",
      "Best match: tensorpack 0.10\n",
      "Adding tensorpack 0.10 to easy-install.pth file\n",
      "\n",
      "Using /usr/local/lib/python3.6/dist-packages\n",
      "Searching for tqdm==4.45.0\n",
      "Best match: tqdm 4.45.0\n",
      "Adding tqdm 4.45.0 to easy-install.pth file\n",
      "Installing tqdm script to /usr/local/bin\n",
      "\n",
      "Using /usr/local/lib/python3.6/dist-packages\n",
      "Searching for slidingwindow==0.0.13\n",
      "Best match: slidingwindow 0.0.13\n",
      "Adding slidingwindow 0.0.13 to easy-install.pth file\n",
      "\n",
      "Using /usr/local/lib/python3.6/dist-packages\n",
      "Searching for scipy==1.3.0\n",
      "Best match: scipy 1.3.0\n",
      "Adding scipy 1.3.0 to easy-install.pth file\n",
      "\n",
      "Using /usr/local/lib/python3.6/dist-packages\n",
      "Searching for scikit-image==0.16.2\n",
      "Best match: scikit-image 0.16.2\n",
      "Adding scikit-image 0.16.2 to easy-install.pth file\n",
      "Installing skivi script to /usr/local/bin\n",
      "\n",
      "Using /usr/local/lib/python3.6/dist-packages\n",
      "Searching for requests==2.23.0\n",
      "Best match: requests 2.23.0\n",
      "Adding requests 2.23.0 to easy-install.pth file\n",
      "\n",
      "Using /usr/local/lib/python3.6/dist-packages\n",
      "Searching for psutil==5.7.0\n",
      "Best match: psutil 5.7.0\n",
      "Adding psutil 5.7.0 to easy-install.pth file\n",
      "\n",
      "Using /usr/local/lib/python3.6/dist-packages\n",
      "Searching for matplotlib==3.1.1\n",
      "Best match: matplotlib 3.1.1\n",
      "Adding matplotlib 3.1.1 to easy-install.pth file\n",
      "\n",
      "Using /usr/local/lib/python3.6/dist-packages\n",
      "Searching for fire==0.3.1\n",
      "Best match: fire 0.3.1\n",
      "Adding fire 0.3.1 to easy-install.pth file\n",
      "\n",
      "Using /usr/local/lib/python3.6/dist-packages\n",
      "Searching for dill==0.2.7.1\n",
      "Best match: dill 0.2.7.1\n",
      "Processing dill-0.2.7.1-py3.6.egg\n",
      "dill 0.2.7.1 is already the active version in easy-install.pth\n",
      "Installing dill_unpickle.py script to /usr/local/bin\n",
      "Installing get_objgraph.py script to /usr/local/bin\n",
      "\n",
      "Using /usr/local/lib/python3.6/dist-packages/dill-0.2.7.1-py3.6.egg\n",
      "Searching for argparse==1.4.0\n",
      "Best match: argparse 1.4.0\n",
      "Adding argparse 1.4.0 to easy-install.pth file\n",
      "\n",
      "Using /usr/local/lib/python3.6/dist-packages\n",
      "Searching for msgpack-numpy==0.4.5\n",
      "Best match: msgpack-numpy 0.4.5\n",
      "Adding msgpack-numpy 0.4.5 to easy-install.pth file\n",
      "\n",
      "Using /usr/local/lib/python3.6/dist-packages\n",
      "Searching for six==1.14.0\n",
      "Best match: six 1.14.0\n",
      "Adding six 1.14.0 to easy-install.pth file\n",
      "\n",
      "Using /usr/local/lib/python3.6/dist-packages\n",
      "Searching for termcolor==1.1.0\n",
      "Best match: termcolor 1.1.0\n",
      "Adding termcolor 1.1.0 to easy-install.pth file\n",
      "\n",
      "Using /usr/local/lib/python3.6/dist-packages\n",
      "Searching for numpy==1.18.2\n",
      "Best match: numpy 1.18.2\n",
      "Adding numpy 1.18.2 to easy-install.pth file\n",
      "Installing f2py script to /usr/local/bin\n",
      "Installing f2py3 script to /usr/local/bin\n",
      "Installing f2py3.6 script to /usr/local/bin\n",
      "\n",
      "Using /usr/local/lib/python3.6/dist-packages\n",
      "Searching for tabulate==0.8.7\n",
      "Best match: tabulate 0.8.7\n",
      "Adding tabulate 0.8.7 to easy-install.pth file\n",
      "Installing tabulate script to /usr/local/bin\n",
      "\n",
      "Using /usr/local/lib/python3.6/dist-packages\n",
      "Searching for pyzmq==18.0.2\n",
      "Best match: pyzmq 18.0.2\n",
      "Adding pyzmq 18.0.2 to easy-install.pth file\n",
      "\n",
      "Using /usr/local/lib/python3.6/dist-packages\n",
      "Searching for msgpack==1.0.0\n",
      "Best match: msgpack 1.0.0\n",
      "Adding msgpack 1.0.0 to easy-install.pth file\n",
      "\n",
      "Using /usr/local/lib/python3.6/dist-packages\n",
      "Searching for Pillow==7.1.1\n",
      "Best match: Pillow 7.1.1\n",
      "Adding Pillow 7.1.1 to easy-install.pth file\n",
      "\n",
      "Using /usr/local/lib/python3.6/dist-packages\n",
      "Searching for imageio==2.8.0\n",
      "Best match: imageio 2.8.0\n",
      "Adding imageio 2.8.0 to easy-install.pth file\n",
      "Installing imageio_download_bin script to /usr/local/bin\n",
      "Installing imageio_remove_bin script to /usr/local/bin\n",
      "\n",
      "Using /usr/local/lib/python3.6/dist-packages\n",
      "Searching for networkx==2.4\n",
      "Best match: networkx 2.4\n",
      "Adding networkx 2.4 to easy-install.pth file\n",
      "\n",
      "Using /usr/local/lib/python3.6/dist-packages\n",
      "Searching for PyWavelets==1.1.1\n",
      "Best match: PyWavelets 1.1.1\n",
      "Adding PyWavelets 1.1.1 to easy-install.pth file\n",
      "\n",
      "Using /usr/local/lib/python3.6/dist-packages\n",
      "Searching for chardet==3.0.4\n",
      "Best match: chardet 3.0.4\n",
      "Adding chardet 3.0.4 to easy-install.pth file\n",
      "Installing chardetect script to /usr/local/bin\n",
      "\n",
      "Using /usr/local/lib/python3.6/dist-packages\n",
      "Searching for urllib3==1.25.9\n",
      "Best match: urllib3 1.25.9\n",
      "Adding urllib3 1.25.9 to easy-install.pth file\n",
      "\n",
      "Using /usr/local/lib/python3.6/dist-packages\n",
      "Searching for certifi==2020.4.5.1\n",
      "Best match: certifi 2020.4.5.1\n",
      "Adding certifi 2020.4.5.1 to easy-install.pth file\n",
      "\n",
      "Using /usr/local/lib/python3.6/dist-packages\n",
      "Searching for idna==2.9\n",
      "Best match: idna 2.9\n",
      "Adding idna 2.9 to easy-install.pth file\n",
      "\n",
      "Using /usr/local/lib/python3.6/dist-packages\n",
      "Searching for cycler==0.10.0\n",
      "Best match: cycler 0.10.0\n",
      "Adding cycler 0.10.0 to easy-install.pth file\n",
      "\n",
      "Using /usr/local/lib/python3.6/dist-packages\n",
      "Searching for kiwisolver==1.1.0\n",
      "Best match: kiwisolver 1.1.0\n",
      "Adding kiwisolver 1.1.0 to easy-install.pth file\n",
      "\n",
      "Using /usr/local/lib/python3.6/dist-packages\n",
      "Searching for python-dateutil==2.8.0\n",
      "Best match: python-dateutil 2.8.0\n",
      "Adding python-dateutil 2.8.0 to easy-install.pth file\n",
      "\n",
      "Using /usr/local/lib/python3.6/dist-packages\n",
      "Searching for pyparsing==2.4.2\n",
      "Best match: pyparsing 2.4.2\n",
      "Adding pyparsing 2.4.2 to easy-install.pth file\n",
      "\n",
      "Using /usr/local/lib/python3.6/dist-packages\n",
      "Searching for decorator==4.4.0\n",
      "Best match: decorator 4.4.0\n",
      "Adding decorator 4.4.0 to easy-install.pth file\n",
      "\n",
      "Using /usr/local/lib/python3.6/dist-packages\n",
      "Searching for setuptools==46.1.3\n",
      "Best match: setuptools 46.1.3\n",
      "Adding setuptools 46.1.3 to easy-install.pth file\n",
      "Installing easy_install script to /usr/local/bin\n",
      "Installing easy_install-3.8 script to /usr/local/bin\n",
      "\n",
      "Using /usr/local/lib/python3.6/dist-packages\n",
      "Finished processing dependencies for tf-pose==0.1.1\n"
     ]
    }
   ],
   "source": [
    "!python setup.py install"
   ]
  },
  {
   "cell_type": "code",
   "execution_count": 33,
   "metadata": {
    "collapsed": true
   },
   "outputs": [
    {
     "name": "stdout",
     "output_type": "stream",
     "text": [
      "[download] model graph : cmu\n",
      "--2020-04-17 21:25:33--  http://download692.mediafire.com/0r6ie55yy30g/qlzzr20mpocnpa3/graph_opt.pb\n",
      "Resolving download692.mediafire.com (download692.mediafire.com)... 205.196.120.140\n",
      "Connecting to download692.mediafire.com (download692.mediafire.com)|205.196.120.140|:80... connected.\n",
      "HTTP request sent, awaiting response... 206 Partial Content\n",
      "Retrying.\n",
      "\n",
      "--2020-04-17 21:25:34--  (try: 2)  http://download692.mediafire.com/0r6ie55yy30g/qlzzr20mpocnpa3/graph_opt.pb\n",
      "Connecting to download692.mediafire.com (download692.mediafire.com)|205.196.120.140|:80... connected.\n",
      "HTTP request sent, awaiting response... 206 Partial Content\n",
      "Giving up.\n",
      "\n",
      "[download] end\n"
     ]
    }
   ],
   "source": [
    "!bash models/graph/cmu/download.sh"
   ]
  },
  {
   "cell_type": "code",
   "execution_count": null,
   "metadata": {},
   "outputs": [],
   "source": [
    "!python run.py --model=mobilenet_thin --resize=432x368 --image=images/p1.jpg"
   ]
  },
  {
   "cell_type": "code",
   "execution_count": 20,
   "metadata": {
    "collapsed": true
   },
   "outputs": [
    {
     "name": "stdout",
     "output_type": "stream",
     "text": [
      "Executing: /tmp/apt-key-gpghome.IM7PfJyi9k/gpg.1.sh --fetch-keys http://developer.download.nvidia.com/compute/cuda/repos/ubuntu1604/x86_64/7fa2af80.pub\n",
      "gpg: requesting key from 'http://developer.download.nvidia.com/compute/cuda/repos/ubuntu1604/x86_64/7fa2af80.pub'\n",
      "gpg: key F60F4B3D7FA2AF80: \"cudatools <cudatools@nvidia.com>\" not changed\n",
      "gpg: Total number processed: 1\n",
      "gpg:              unchanged: 1\n",
      "Hit:1 http://ppa.launchpad.net/deadsnakes/ppa/ubuntu bionic InRelease\n",
      "Hit:2 http://archive.ubuntu.com/ubuntu bionic InRelease\n",
      "Hit:3 http://security.ubuntu.com/ubuntu bionic-security InRelease        \n",
      "Hit:4 http://archive.ubuntu.com/ubuntu bionic-updates InRelease          \n",
      "Hit:5 http://archive.ubuntu.com/ubuntu bionic-backports InRelease\n",
      "Reading package lists... Done                      \n",
      "Reading package lists... Done\n",
      "Building dependency tree       \n",
      "Reading state information... Done\n",
      "E: Unable to locate package cuda\n"
     ]
    }
   ],
   "source": [
    "!apt-key adv --fetch-keys \\http://developer.download.nvidia.com/compute/cuda/repos/ubuntu1604/x86_64/7fa2af80.pub\n",
    "!apt-get update\n",
    "!apt-get install cuda"
   ]
  },
  {
   "cell_type": "code",
   "execution_count": 32,
   "metadata": {
    "collapsed": true
   },
   "outputs": [
    {
     "name": "stdout",
     "output_type": "stream",
     "text": [
      "Requirement already satisfied: slidingwindow in /usr/local/lib/python3.6/dist-packages (0.0.13)\n",
      "Requirement already satisfied: numpy in /usr/local/lib/python3.6/dist-packages (from slidingwindow) (1.18.2)\n",
      "Requirement already satisfied: psutil in /usr/local/lib/python3.6/dist-packages (from slidingwindow) (5.7.0)\n"
     ]
    }
   ],
   "source": [
    "!pip install slidingwindow"
   ]
  },
  {
   "cell_type": "code",
   "execution_count": 30,
   "metadata": {
    "collapsed": true
   },
   "outputs": [
    {
     "name": "stdout",
     "output_type": "stream",
     "text": [
      "Reading package lists... Done\n",
      "Building dependency tree       \n",
      "Reading state information... Done\n",
      "swig is already the newest version (3.0.12-1).\n",
      "0 upgraded, 0 newly installed, 0 to remove and 91 not upgraded.\n"
     ]
    }
   ],
   "source": [
    "!apt-get install -y swig"
   ]
  },
  {
   "cell_type": "code",
   "execution_count": 31,
   "metadata": {
    "collapsed": true
   },
   "outputs": [
    {
     "name": "stdout",
     "output_type": "stream",
     "text": [
      "running build_ext\r\n",
      "building '_pafprocess' extension\r\n",
      "swigging pafprocess.i to pafprocess_wrap.cpp\r\n",
      "swig -python -c++ -o pafprocess_wrap.cpp pafprocess.i\r\n",
      "Unable to find file 'pafprocess.i'.\r\n",
      "error: command 'swig' failed with exit status 1\r\n"
     ]
    }
   ],
   "source": [
    "!swig -python -c++ tf_pose/pafprocess/pafprocess.i && python tf_pose/pafprocess/setup.py build_ext --inplace"
   ]
  },
  {
   "cell_type": "code",
   "execution_count": 160,
   "metadata": {
    "collapsed": true
   },
   "outputs": [
    {
     "name": "stdout",
     "output_type": "stream",
     "text": [
      "running build_ext\r\n",
      "building '_pafprocess' extension\r\n",
      "swigging pafprocess.i to pafprocess_wrap.cpp\r\n",
      "swig -python -c++ -o pafprocess_wrap.cpp pafprocess.i\r\n",
      "Unable to find file 'pafprocess.i'.\r\n",
      "error: command 'swig' failed with exit status 1\r\n"
     ]
    }
   ],
   "source": [
    "#!python tf_pose/pafprocess/setup.py build_ext --inplace"
   ]
  },
  {
   "cell_type": "code",
   "execution_count": 28,
   "metadata": {
    "collapsed": true
   },
   "outputs": [
    {
     "name": "stdout",
     "output_type": "stream",
     "text": [
      "Reading package lists... Done\n",
      "Building dependency tree       \n",
      "Reading state information... Done\n",
      "libllvm7 is already the newest version (1:7-3~ubuntu0.18.04.1).\n",
      "libllvm-7-ocaml-dev is already the newest version (1:7-3~ubuntu0.18.04.1).\n",
      "llvm-7 is already the newest version (1:7-3~ubuntu0.18.04.1).\n",
      "llvm-7-dev is already the newest version (1:7-3~ubuntu0.18.04.1).\n",
      "llvm-7-doc is already the newest version (1:7-3~ubuntu0.18.04.1).\n",
      "llvm-7-examples is already the newest version (1:7-3~ubuntu0.18.04.1).\n",
      "llvm-7-runtime is already the newest version (1:7-3~ubuntu0.18.04.1).\n",
      "0 upgraded, 0 newly installed, 0 to remove and 91 not upgraded.\n"
     ]
    }
   ],
   "source": [
    "!apt-get install -y libllvm-7-ocaml-dev libllvm7 llvm-7 llvm-7-dev llvm-7-doc llvm-7-examples llvm-7-runtime"
   ]
  },
  {
   "cell_type": "code",
   "execution_count": 29,
   "metadata": {},
   "outputs": [],
   "source": [
    "!export LLVM_CONFIG=/usr/bin/llvm-config-7"
   ]
  },
  {
   "cell_type": "code",
   "execution_count": 43,
   "metadata": {
    "collapsed": true
   },
   "outputs": [
    {
     "name": "stdout",
     "output_type": "stream",
     "text": [
      "Hit:1 http://ppa.launchpad.net/deadsnakes/ppa/ubuntu bionic InRelease\n",
      "Hit:2 http://archive.ubuntu.com/ubuntu bionic InRelease                  \n",
      "Get:3 http://security.ubuntu.com/ubuntu bionic-security InRelease [88.7 kB]\n",
      "Get:4 http://archive.ubuntu.com/ubuntu bionic-updates InRelease [88.7 kB]      \n",
      "Get:5 http://archive.ubuntu.com/ubuntu bionic-backports InRelease [74.6 kB]\n",
      "Fetched 252 kB in 1s (217 kB/s)   \n",
      "Reading package lists... Done\n",
      "Reading package lists... Done\n",
      "Building dependency tree       \n",
      "Reading state information... Done\n",
      "libsm6 is already the newest version (2:1.2.2-1).\n",
      "libxext6 is already the newest version (2:1.3.3-1).\n",
      "libxrender-dev is already the newest version (1:0.9.10-1).\n",
      "0 upgraded, 0 newly installed, 0 to remove and 91 not upgraded.\n",
      "Requirement already satisfied: opencv-python in /usr/local/lib/python3.6/dist-packages (4.2.0.34)\n",
      "Requirement already satisfied: numpy>=1.11.3 in /usr/local/lib/python3.6/dist-packages (from opencv-python) (1.18.2)\n"
     ]
    }
   ],
   "source": [
    "!apt-get update\n",
    "!apt-get install -y libsm6 libxext6 libxrender-dev\n",
    "!pip install opencv-python"
   ]
  },
  {
   "cell_type": "code",
   "execution_count": 26,
   "metadata": {
    "collapsed": true
   },
   "outputs": [
    {
     "name": "stdout",
     "output_type": "stream",
     "text": [
      "Requirement already satisfied: opencv-python in /usr/local/lib/python3.6/dist-packages (4.2.0.34)\r\n",
      "Requirement already satisfied: numpy>=1.11.3 in /usr/local/lib/python3.6/dist-packages (from opencv-python) (1.18.2)\r\n"
     ]
    }
   ],
   "source": [
    "!pip install opencv-python"
   ]
  },
  {
   "cell_type": "code",
   "execution_count": 24,
   "metadata": {
    "collapsed": true
   },
   "outputs": [
    {
     "name": "stdout",
     "output_type": "stream",
     "text": [
      "Requirement already satisfied: imageio in /usr/local/lib/python3.6/dist-packages (2.8.0)\r\n",
      "Requirement already satisfied: pillow in /usr/local/lib/python3.6/dist-packages (from imageio) (7.1.1)\r\n",
      "Requirement already satisfied: numpy in /usr/local/lib/python3.6/dist-packages (from imageio) (1.18.2)\r\n"
     ]
    }
   ],
   "source": [
    "!pip install imageio"
   ]
  },
  {
   "cell_type": "code",
   "execution_count": 23,
   "metadata": {
    "collapsed": true
   },
   "outputs": [
    {
     "name": "stdout",
     "output_type": "stream",
     "text": [
      "\r\n",
      "Usage:   \r\n",
      "  pip install [options] <requirement specifier> [package-index-options] ...\r\n",
      "  pip install [options] -r <requirements file> [package-index-options] ...\r\n",
      "  pip install [options] [-e] <vcs project url> ...\r\n",
      "  pip install [options] [-e] <local project path> ...\r\n",
      "  pip install [options] <archive url/path> ...\r\n",
      "\r\n",
      "no such option: -u\r\n"
     ]
    }
   ],
   "source": [
    "!pip install -upgrade pip"
   ]
  },
  {
   "cell_type": "code",
   "execution_count": 49,
   "metadata": {
    "collapsed": true
   },
   "outputs": [
    {
     "name": "stdout",
     "output_type": "stream",
     "text": [
      "Found existing installation: tensorflow 1.4.1\n",
      "Uninstalling tensorflow-1.4.1:\n",
      "  Successfully uninstalled tensorflow-1.4.1\n"
     ]
    }
   ],
   "source": [
    "!pip3 uninstall -y tensorflow"
   ]
  },
  {
   "cell_type": "code",
   "execution_count": 50,
   "metadata": {
    "collapsed": true
   },
   "outputs": [
    {
     "name": "stdout",
     "output_type": "stream",
     "text": [
      "Found existing installation: tensorflow-gpu 1.8.0\n",
      "Uninstalling tensorflow-gpu-1.8.0:\n",
      "  Successfully uninstalled tensorflow-gpu-1.8.0\n"
     ]
    }
   ],
   "source": [
    "!pip uninstall -y tensorflow-gpu"
   ]
  },
  {
   "cell_type": "code",
   "execution_count": 62,
   "metadata": {
    "collapsed": true
   },
   "outputs": [
    {
     "name": "stdout",
     "output_type": "stream",
     "text": [
      "Collecting tensorflow==1.8.0\n",
      "  Downloading tensorflow-1.8.0-cp36-cp36m-manylinux1_x86_64.whl (49.1 MB)\n",
      "\u001b[K     |████████████████████████████████| 49.1 MB 336 kB/s  eta 0:00:01\n",
      "\u001b[?25hCollecting tensorboard<1.9.0,>=1.8.0\n",
      "  Using cached tensorboard-1.8.0-py3-none-any.whl (3.1 MB)\n",
      "Processing /root/.cache/pip/wheels/c3/af/84/3962a6af7b4ab336e951b7877dcfb758cf94548bb1771e0679/absl_py-0.9.0-py3-none-any.whl\n",
      "Collecting six>=1.10.0\n",
      "  Using cached six-1.14.0-py2.py3-none-any.whl (10 kB)\n",
      "Collecting numpy>=1.13.3\n",
      "  Using cached numpy-1.18.2-cp36-cp36m-manylinux1_x86_64.whl (20.2 MB)\n",
      "Collecting protobuf>=3.4.0\n",
      "  Using cached protobuf-3.11.3-cp36-cp36m-manylinux1_x86_64.whl (1.3 MB)\n",
      "Processing /root/.cache/pip/wheels/93/2a/eb/e58dbcbc963549ee4f065ff80a59f274cc7210b6eab962acdc/termcolor-1.1.0-py3-none-any.whl\n",
      "Collecting grpcio>=1.8.6\n",
      "  Using cached grpcio-1.28.1-cp36-cp36m-manylinux2010_x86_64.whl (2.8 MB)\n",
      "Collecting wheel>=0.26\n",
      "  Using cached wheel-0.34.2-py2.py3-none-any.whl (26 kB)\n",
      "Collecting gast>=0.2.0\n",
      "  Using cached gast-0.3.3-py2.py3-none-any.whl (9.7 kB)\n",
      "Collecting astor>=0.6.0\n",
      "  Using cached astor-0.8.1-py2.py3-none-any.whl (27 kB)\n",
      "Collecting bleach==1.5.0\n",
      "  Using cached bleach-1.5.0-py2.py3-none-any.whl (17 kB)\n",
      "Processing /root/.cache/pip/wheels/90/1c/cb/a87fd097ff74648ecc468a703001f6c7c86d8a71d459e65c98/html5lib-0.9999999-py3-none-any.whl\n",
      "Collecting markdown>=2.6.8\n",
      "  Using cached Markdown-3.2.1-py2.py3-none-any.whl (88 kB)\n",
      "Collecting werkzeug>=0.11.10\n",
      "  Using cached Werkzeug-1.0.1-py2.py3-none-any.whl (298 kB)\n",
      "Collecting setuptools\n",
      "  Using cached setuptools-46.1.3-py3-none-any.whl (582 kB)\n",
      "Installing collected packages: six, numpy, html5lib, bleach, setuptools, protobuf, wheel, markdown, werkzeug, tensorboard, absl-py, termcolor, grpcio, gast, astor, tensorflow\n",
      "Successfully installed absl-py-0.9.0 astor-0.8.1 bleach-1.5.0 gast-0.3.3 grpcio-1.28.1 html5lib-0.9999999 markdown-3.2.1 numpy-1.18.2 protobuf-3.11.3 setuptools-46.1.3 six-1.14.0 tensorboard-1.14.0 tensorflow-1.8.0 termcolor-1.1.0 werkzeug-1.0.1 wheel-0.34.2\n"
     ]
    }
   ],
   "source": [
    "!pip install --ignore-installed tensorflow==1.8.0"
   ]
  },
  {
   "cell_type": "code",
   "execution_count": 2,
   "metadata": {
    "collapsed": true
   },
   "outputs": [
    {
     "name": "stdout",
     "output_type": "stream",
     "text": [
      "Collecting tensorflow==1.4.1\n",
      "  Using cached tensorflow-1.4.1-cp36-cp36m-manylinux1_x86_64.whl (41.2 MB)\n",
      "Requirement already satisfied: wheel>=0.26 in /usr/local/lib/python3.6/dist-packages (from tensorflow==1.4.1) (0.34.2)\n",
      "Requirement already satisfied: protobuf>=3.3.0 in /usr/local/lib/python3.6/dist-packages (from tensorflow==1.4.1) (3.11.3)\n",
      "Requirement already satisfied: enum34>=1.1.6 in /usr/local/lib/python3.6/dist-packages (from tensorflow==1.4.1) (1.1.10)\n",
      "Requirement already satisfied: tensorflow-tensorboard<0.5.0,>=0.4.0rc1 in /usr/local/lib/python3.6/dist-packages (from tensorflow==1.4.1) (0.4.0)\n",
      "Requirement already satisfied: numpy>=1.12.1 in /usr/local/lib/python3.6/dist-packages (from tensorflow==1.4.1) (1.18.2)\n",
      "Requirement already satisfied: six>=1.10.0 in /usr/local/lib/python3.6/dist-packages (from tensorflow==1.4.1) (1.14.0)\n",
      "Requirement already satisfied: setuptools in /usr/local/lib/python3.6/dist-packages (from protobuf>=3.3.0->tensorflow==1.4.1) (46.1.3)\n",
      "Requirement already satisfied: bleach==1.5.0 in /usr/local/lib/python3.6/dist-packages (from tensorflow-tensorboard<0.5.0,>=0.4.0rc1->tensorflow==1.4.1) (1.5.0)\n",
      "Requirement already satisfied: markdown>=2.6.8 in /usr/local/lib/python3.6/dist-packages (from tensorflow-tensorboard<0.5.0,>=0.4.0rc1->tensorflow==1.4.1) (3.2.1)\n",
      "Requirement already satisfied: html5lib==0.9999999 in /usr/local/lib/python3.6/dist-packages (from tensorflow-tensorboard<0.5.0,>=0.4.0rc1->tensorflow==1.4.1) (0.9999999)\n",
      "Requirement already satisfied: werkzeug>=0.11.10 in /usr/local/lib/python3.6/dist-packages (from tensorflow-tensorboard<0.5.0,>=0.4.0rc1->tensorflow==1.4.1) (1.0.1)\n",
      "Installing collected packages: tensorflow\n",
      "Successfully installed tensorflow-1.4.1\n"
     ]
    }
   ],
   "source": [
    "!pip install tensorflow==1.4.1"
   ]
  },
  {
   "cell_type": "code",
   "execution_count": 46,
   "metadata": {
    "collapsed": true
   },
   "outputs": [
    {
     "name": "stdout",
     "output_type": "stream",
     "text": [
      "Collecting tensorflow-gpu==1.8.0\n",
      "  Using cached tensorflow_gpu-1.8.0-cp36-cp36m-manylinux1_x86_64.whl (216.2 MB)\n",
      "Collecting grpcio>=1.8.6\n",
      "  Using cached grpcio-1.28.1-cp36-cp36m-manylinux2010_x86_64.whl (2.8 MB)\n",
      "Collecting protobuf>=3.4.0\n",
      "  Using cached protobuf-3.11.3-cp36-cp36m-manylinux1_x86_64.whl (1.3 MB)\n",
      "Collecting six>=1.10.0\n",
      "  Using cached six-1.14.0-py2.py3-none-any.whl (10 kB)\n",
      "Collecting wheel>=0.26\n",
      "  Using cached wheel-0.34.2-py2.py3-none-any.whl (26 kB)\n",
      "Collecting gast>=0.2.0\n",
      "  Using cached gast-0.3.3-py2.py3-none-any.whl (9.7 kB)\n",
      "Processing /root/.cache/pip/wheels/93/2a/eb/e58dbcbc963549ee4f065ff80a59f274cc7210b6eab962acdc/termcolor-1.1.0-py3-none-any.whl\n",
      "Collecting astor>=0.6.0\n",
      "  Using cached astor-0.8.1-py2.py3-none-any.whl (27 kB)\n",
      "Processing /root/.cache/pip/wheels/c3/af/84/3962a6af7b4ab336e951b7877dcfb758cf94548bb1771e0679/absl_py-0.9.0-py3-none-any.whl\n",
      "Collecting numpy>=1.13.3\n",
      "  Using cached numpy-1.18.2-cp36-cp36m-manylinux1_x86_64.whl (20.2 MB)\n",
      "Collecting tensorboard<1.9.0,>=1.8.0\n",
      "  Using cached tensorboard-1.8.0-py3-none-any.whl (3.1 MB)\n",
      "Collecting setuptools\n",
      "  Using cached setuptools-46.1.3-py3-none-any.whl (582 kB)\n",
      "Collecting werkzeug>=0.11.10\n",
      "  Using cached Werkzeug-1.0.1-py2.py3-none-any.whl (298 kB)\n",
      "Processing /root/.cache/pip/wheels/90/1c/cb/a87fd097ff74648ecc468a703001f6c7c86d8a71d459e65c98/html5lib-0.9999999-py3-none-any.whl\n",
      "Collecting markdown>=2.6.8\n",
      "  Using cached Markdown-3.2.1-py2.py3-none-any.whl (88 kB)\n",
      "Collecting bleach==1.5.0\n",
      "  Using cached bleach-1.5.0-py2.py3-none-any.whl (17 kB)\n",
      "Installing collected packages: six, grpcio, setuptools, protobuf, wheel, gast, termcolor, astor, absl-py, numpy, werkzeug, html5lib, markdown, bleach, tensorboard, tensorflow-gpu\n",
      "Successfully installed absl-py-0.9.0 astor-0.8.1 bleach-1.5.0 gast-0.3.3 grpcio-1.28.1 html5lib-0.9999999 markdown-3.2.1 numpy-1.18.2 protobuf-3.11.3 setuptools-46.1.3 six-1.14.0 tensorboard-1.14.0 tensorflow-gpu-1.8.0 termcolor-1.1.0 werkzeug-1.0.1 wheel-0.34.2\n"
     ]
    }
   ],
   "source": [
    "!pip install --ignore-installed tensorflow-gpu==1.8.0"
   ]
  },
  {
   "cell_type": "code",
   "execution_count": null,
   "metadata": {},
   "outputs": [],
   "source": [
    "!pip install dill==0.2.7.1"
   ]
  },
  {
   "cell_type": "code",
   "execution_count": 17,
   "metadata": {
    "collapsed": true
   },
   "outputs": [
    {
     "name": "stdout",
     "output_type": "stream",
     "text": [
      "Found existing installation: tensorflow 1.4.1\n",
      "Uninstalling tensorflow-1.4.1:\n",
      "  Successfully uninstalled tensorflow-1.4.1\n"
     ]
    }
   ],
   "source": [
    "!pip uninstall -y tensorflow==1.8.0"
   ]
  },
  {
   "cell_type": "code",
   "execution_count": 23,
   "metadata": {
    "scrolled": true
   },
   "outputs": [
    {
     "data": {
      "text/plain": [
       "'1.8.0'"
      ]
     },
     "execution_count": 23,
     "metadata": {},
     "output_type": "execute_result"
    }
   ],
   "source": [
    "tf.__version__"
   ]
  },
  {
   "cell_type": "code",
   "execution_count": 24,
   "metadata": {},
   "outputs": [],
   "source": [
    "import tensorflow as tf"
   ]
  },
  {
   "cell_type": "code",
   "execution_count": 33,
   "metadata": {},
   "outputs": [
    {
     "name": "stdout",
     "output_type": "stream",
     "text": [
      "\u001b[33mWARNING: Skipping tensorflow as it is not installed.\u001b[0m\r\n"
     ]
    }
   ],
   "source": [
    "!pip uninstall -y tensorflow"
   ]
  },
  {
   "cell_type": "code",
   "execution_count": 1,
   "metadata": {
    "collapsed": true
   },
   "outputs": [
    {
     "name": "stdout",
     "output_type": "stream",
     "text": [
      "Collecting tensorflow==2.1\n",
      "  Downloading tensorflow-2.1.0-cp36-cp36m-manylinux2010_x86_64.whl (421.8 MB)\n",
      "\u001b[K     |████████████████████████████████| 421.8 MB 30 kB/s s eta 0:00:01   |██████▏                         | 80.9 MB 9.7 MB/s eta 0:00:36\n",
      "\u001b[?25hRequirement already satisfied: termcolor>=1.1.0 in /usr/local/lib/python3.6/dist-packages (from tensorflow==2.1) (1.1.0)\n",
      "Collecting opt-einsum>=2.3.2\n",
      "  Downloading opt_einsum-3.2.1-py3-none-any.whl (63 kB)\n",
      "\u001b[K     |████████████████████████████████| 63 kB 4.9 MB/s  eta 0:00:01\n",
      "\u001b[?25hRequirement already satisfied: astor>=0.6.0 in /usr/local/lib/python3.6/dist-packages (from tensorflow==2.1) (0.8.1)\n",
      "Requirement already satisfied: wrapt>=1.11.1 in /usr/local/lib/python3.6/dist-packages (from tensorflow==2.1) (1.11.2)\n",
      "Collecting tensorboard<2.2.0,>=2.1.0\n",
      "  Downloading tensorboard-2.1.1-py3-none-any.whl (3.8 MB)\n",
      "\u001b[K     |████████████████████████████████| 3.8 MB 12.0 MB/s eta 0:00:01\n",
      "\u001b[?25hRequirement already satisfied: absl-py>=0.7.0 in /usr/local/lib/python3.6/dist-packages (from tensorflow==2.1) (0.9.0)\n",
      "Requirement already satisfied: protobuf>=3.8.0 in /usr/local/lib/python3.6/dist-packages (from tensorflow==2.1) (3.11.3)\n",
      "Collecting tensorflow-estimator<2.2.0,>=2.1.0rc0\n",
      "  Downloading tensorflow_estimator-2.1.0-py2.py3-none-any.whl (448 kB)\n",
      "\u001b[K     |████████████████████████████████| 448 kB 73.0 MB/s eta 0:00:01\n",
      "\u001b[?25hRequirement already satisfied: wheel>=0.26; python_version >= \"3\" in /usr/local/lib/python3.6/dist-packages (from tensorflow==2.1) (0.34.2)\n",
      "Requirement already satisfied: numpy<2.0,>=1.16.0 in /usr/local/lib/python3.6/dist-packages (from tensorflow==2.1) (1.18.2)\n",
      "Requirement already satisfied: google-pasta>=0.1.6 in /usr/local/lib/python3.6/dist-packages (from tensorflow==2.1) (0.1.7)\n",
      "Collecting gast==0.2.2\n",
      "  Downloading gast-0.2.2.tar.gz (10 kB)\n",
      "Collecting scipy==1.4.1; python_version >= \"3\"\n",
      "  Downloading scipy-1.4.1-cp36-cp36m-manylinux1_x86_64.whl (26.1 MB)\n",
      "\u001b[K     |████████████████████████████████| 26.1 MB 38.4 MB/s eta 0:00:01     |███████████████████████▊        | 19.3 MB 38.4 MB/s eta 0:00:01\n",
      "\u001b[?25hRequirement already satisfied: grpcio>=1.8.6 in /usr/local/lib/python3.6/dist-packages (from tensorflow==2.1) (1.28.1)\n",
      "Requirement already satisfied: keras-applications>=1.0.8 in /usr/local/lib/python3.6/dist-packages (from tensorflow==2.1) (1.0.8)\n",
      "Requirement already satisfied: keras-preprocessing>=1.1.0 in /usr/local/lib/python3.6/dist-packages (from tensorflow==2.1) (1.1.0)\n",
      "Requirement already satisfied: six>=1.12.0 in /usr/local/lib/python3.6/dist-packages (from tensorflow==2.1) (1.14.0)\n",
      "Collecting google-auth<2,>=1.6.3\n",
      "  Downloading google_auth-1.14.0-py2.py3-none-any.whl (88 kB)\n",
      "\u001b[K     |████████████████████████████████| 88 kB 19.5 MB/s eta 0:00:01\n",
      "\u001b[?25hRequirement already satisfied: werkzeug>=0.11.15 in /usr/local/lib/python3.6/dist-packages (from tensorboard<2.2.0,>=2.1.0->tensorflow==2.1) (1.0.1)\n",
      "Requirement already satisfied: requests<3,>=2.21.0 in /usr/local/lib/python3.6/dist-packages (from tensorboard<2.2.0,>=2.1.0->tensorflow==2.1) (2.23.0)\n",
      "Requirement already satisfied: markdown>=2.6.8 in /usr/local/lib/python3.6/dist-packages (from tensorboard<2.2.0,>=2.1.0->tensorflow==2.1) (3.2.1)\n",
      "Requirement already satisfied: setuptools>=41.0.0 in /usr/local/lib/python3.6/dist-packages (from tensorboard<2.2.0,>=2.1.0->tensorflow==2.1) (46.1.3)\n",
      "Collecting google-auth-oauthlib<0.5,>=0.4.1\n",
      "  Downloading google_auth_oauthlib-0.4.1-py2.py3-none-any.whl (18 kB)\n",
      "Requirement already satisfied: h5py in /usr/local/lib/python3.6/dist-packages (from keras-applications>=1.0.8->tensorflow==2.1) (2.9.0)\n",
      "Collecting pyasn1-modules>=0.2.1\n",
      "  Downloading pyasn1_modules-0.2.8-py2.py3-none-any.whl (155 kB)\n",
      "\u001b[K     |████████████████████████████████| 155 kB 35.7 MB/s eta 0:00:01\n",
      "\u001b[?25hCollecting cachetools<5.0,>=2.0.0\n",
      "  Downloading cachetools-4.1.0-py3-none-any.whl (10 kB)\n",
      "Collecting rsa<4.1,>=3.1.4\n",
      "  Downloading rsa-4.0-py2.py3-none-any.whl (38 kB)\n",
      "Requirement already satisfied: idna<3,>=2.5 in /usr/local/lib/python3.6/dist-packages (from requests<3,>=2.21.0->tensorboard<2.2.0,>=2.1.0->tensorflow==2.1) (2.9)\n",
      "Requirement already satisfied: chardet<4,>=3.0.2 in /usr/local/lib/python3.6/dist-packages (from requests<3,>=2.21.0->tensorboard<2.2.0,>=2.1.0->tensorflow==2.1) (3.0.4)\n",
      "Requirement already satisfied: certifi>=2017.4.17 in /usr/local/lib/python3.6/dist-packages (from requests<3,>=2.21.0->tensorboard<2.2.0,>=2.1.0->tensorflow==2.1) (2020.4.5.1)\n",
      "Requirement already satisfied: urllib3!=1.25.0,!=1.25.1,<1.26,>=1.21.1 in /usr/local/lib/python3.6/dist-packages (from requests<3,>=2.21.0->tensorboard<2.2.0,>=2.1.0->tensorflow==2.1) (1.25.9)\n",
      "Collecting requests-oauthlib>=0.7.0\n",
      "  Downloading requests_oauthlib-1.3.0-py2.py3-none-any.whl (23 kB)\n",
      "Collecting pyasn1<0.5.0,>=0.4.6\n",
      "  Downloading pyasn1-0.4.8-py2.py3-none-any.whl (77 kB)\n",
      "\u001b[K     |████████████████████████████████| 77 kB 377 kB/s eta 0:00:01\n",
      "\u001b[?25hCollecting oauthlib>=3.0.0\n",
      "  Downloading oauthlib-3.1.0-py2.py3-none-any.whl (147 kB)\n",
      "\u001b[K     |████████████████████████████████| 147 kB 37.0 MB/s eta 0:00:01\n",
      "\u001b[?25hBuilding wheels for collected packages: gast\n",
      "  Building wheel for gast (setup.py) ... \u001b[?25ldone\n",
      "\u001b[?25h  Created wheel for gast: filename=gast-0.2.2-py3-none-any.whl size=7539 sha256=25ab384de64726ac0912fefb48faade1d7a707892f4662248f7c0c4334e11c62\n",
      "  Stored in directory: /root/.cache/pip/wheels/19/a7/b9/0740c7a3a7d1d348f04823339274b90de25fbcd217b2ee1fbe\n",
      "Successfully built gast\n",
      "Installing collected packages: opt-einsum, pyasn1, pyasn1-modules, cachetools, rsa, google-auth, oauthlib, requests-oauthlib, google-auth-oauthlib, tensorboard, tensorflow-estimator, gast, scipy, tensorflow\n",
      "  Attempting uninstall: tensorboard\n",
      "    Found existing installation: tensorboard 1.14.0\n",
      "    Uninstalling tensorboard-1.14.0:\n",
      "      Successfully uninstalled tensorboard-1.14.0\n",
      "  Attempting uninstall: tensorflow-estimator\n",
      "    Found existing installation: tensorflow-estimator 1.14.0\n",
      "    Uninstalling tensorflow-estimator-1.14.0:\n",
      "      Successfully uninstalled tensorflow-estimator-1.14.0\n",
      "  Attempting uninstall: gast\n",
      "    Found existing installation: gast 0.3.3\n",
      "    Uninstalling gast-0.3.3:\n",
      "      Successfully uninstalled gast-0.3.3\n",
      "  Attempting uninstall: scipy\n",
      "    Found existing installation: scipy 1.3.0\n",
      "    Uninstalling scipy-1.3.0:\n",
      "      Successfully uninstalled scipy-1.3.0\n",
      "  Attempting uninstall: tensorflow\n",
      "    Found existing installation: tensorflow 1.14.0\n",
      "    Uninstalling tensorflow-1.14.0:\n",
      "      Successfully uninstalled tensorflow-1.14.0\n",
      "Successfully installed cachetools-4.1.0 gast-0.2.2 google-auth-1.14.0 google-auth-oauthlib-0.4.1 oauthlib-3.1.0 opt-einsum-3.2.1 pyasn1-0.4.8 pyasn1-modules-0.2.8 requests-oauthlib-1.3.0 rsa-4.0 scipy-1.4.1 tensorboard-2.1.1 tensorflow-2.1.0 tensorflow-estimator-2.1.0\n"
     ]
    }
   ],
   "source": [
    "!pip install tensorflow==2.1"
   ]
  },
  {
   "cell_type": "code",
   "execution_count": 159,
   "metadata": {
    "collapsed": true
   },
   "outputs": [
    {
     "name": "stdout",
     "output_type": "stream",
     "text": [
      "Collecting keras==2.1.5\n",
      "  Downloading Keras-2.1.5-py2.py3-none-any.whl (334 kB)\n",
      "\u001b[K     |████████████████████████████████| 334 kB 13.1 MB/s eta 0:00:01\n",
      "\u001b[?25hRequirement already satisfied: pyyaml in /usr/local/lib/python3.6/dist-packages (from keras==2.1.5) (5.3.1)\n",
      "Requirement already satisfied: scipy>=0.14 in /usr/local/lib/python3.6/dist-packages (from keras==2.1.5) (1.4.1)\n",
      "Requirement already satisfied: numpy>=1.9.1 in /usr/local/lib/python3.6/dist-packages (from keras==2.1.5) (1.18.3)\n",
      "Requirement already satisfied: six>=1.9.0 in /usr/local/lib/python3.6/dist-packages (from keras==2.1.5) (1.14.0)\n",
      "Installing collected packages: keras\n",
      "  Attempting uninstall: keras\n",
      "    Found existing installation: Keras 2.3.1\n",
      "    Uninstalling Keras-2.3.1:\n",
      "      Successfully uninstalled Keras-2.3.1\n",
      "Successfully installed keras-2.1.5\n"
     ]
    }
   ],
   "source": [
    "!pip install keras==2.1.5"
   ]
  },
  {
   "cell_type": "markdown",
   "metadata": {},
   "source": [
    "using GANS to generate more images (code from open source blog)"
   ]
  },
  {
   "cell_type": "code",
   "execution_count": 25,
   "metadata": {},
   "outputs": [],
   "source": [
    "BATCH_SIZE = 2\n",
    "BUFFER_SIZE = 10\n",
    "EPOCHES = 5\n",
    "OUTPUT_DIR = \"./BadDeadlift\"\n",
    "#OUTPUT_DIR = \"./GoodDeadlift\" # The output directory where the images of the generator a stored during training"
   ]
  },
  {
   "cell_type": "code",
   "execution_count": 26,
   "metadata": {},
   "outputs": [],
   "source": [
    "class Generator(keras.Model):\n",
    "    \n",
    "    def __init__(self, random_noise_size = 100):\n",
    "        super().__init__(name='generator')\n",
    "        #layers\n",
    "        self.input_layer = keras.layers.Dense(units = random_noise_size)\n",
    "        self.dense_1 = keras.layers.Dense(units = 128)\n",
    "        self.leaky_1 =  keras.layers.LeakyReLU(alpha = 0.01)\n",
    "        self.dense_2 = keras.layers.Dense(units = 128)\n",
    "        self.leaky_2 = keras.layers.LeakyReLU(alpha = 0.01)\n",
    "        #self.dense_3 = keras.layers.Dense(units = 256)\n",
    "        #self.leaky_3 = keras.layers.LeakyReLU(alpha = 0.01)\n",
    "        self.output_layer = keras.layers.Dense(units=10000, activation = \"tanh\")\n",
    "        #print('initialized generator')\n",
    "        \n",
    "    def call(self, input_tensor):\n",
    "        ## Definition of Forward Pass\n",
    "        x = self.input_layer(input_tensor)\n",
    "        x = self.dense_1(x)\n",
    "        x = self.leaky_1(x)\n",
    "        x = self.dense_2(x)\n",
    "        x = self.leaky_2(x)\n",
    "        #x = self.dense_3(x)\n",
    "        #x = self.leaky_3(x)\n",
    "        #print('called from generator')\n",
    "        return  self.output_layer(x)\n",
    "    \n",
    "    def generate_noise(self,batch_size, random_noise_size):\n",
    "        return np.random.uniform(-1,1, size = (batch_size, random_noise_size))"
   ]
  },
  {
   "cell_type": "code",
   "execution_count": 27,
   "metadata": {},
   "outputs": [],
   "source": [
    "generator = Generator()"
   ]
  },
  {
   "cell_type": "code",
   "execution_count": 28,
   "metadata": {
    "collapsed": true
   },
   "outputs": [
    {
     "ename": "AttributeError",
     "evalue": "module 'tensorflow.tools.api.generator.api.keras.losses' has no attribute 'BinaryCrossentropy'",
     "output_type": "error",
     "traceback": [
      "\u001b[0;31m---------------------------------------------------------------------------\u001b[0m",
      "\u001b[0;31mAttributeError\u001b[0m                            Traceback (most recent call last)",
      "\u001b[0;32m<ipython-input-28-edfc1dce0aaa>\u001b[0m in \u001b[0;36m<module>\u001b[0;34m\u001b[0m\n\u001b[0;32m----> 1\u001b[0;31m \u001b[0mcross_entropy\u001b[0m \u001b[0;34m=\u001b[0m \u001b[0mkeras\u001b[0m\u001b[0;34m.\u001b[0m\u001b[0mlosses\u001b[0m\u001b[0;34m.\u001b[0m\u001b[0mBinaryCrossentropy\u001b[0m\u001b[0;34m(\u001b[0m\u001b[0mfrom_logits\u001b[0m \u001b[0;34m=\u001b[0m \u001b[0;32mTrue\u001b[0m\u001b[0;34m)\u001b[0m\u001b[0;34m\u001b[0m\u001b[0;34m\u001b[0m\u001b[0m\n\u001b[0m\u001b[1;32m      2\u001b[0m \u001b[0;34m\u001b[0m\u001b[0m\n\u001b[1;32m      3\u001b[0m \u001b[0;32mdef\u001b[0m \u001b[0mgenerator_objective\u001b[0m\u001b[0;34m(\u001b[0m\u001b[0mdx_of_gx\u001b[0m\u001b[0;34m)\u001b[0m\u001b[0;34m:\u001b[0m\u001b[0;34m\u001b[0m\u001b[0;34m\u001b[0m\u001b[0m\n\u001b[1;32m      4\u001b[0m     \u001b[0;31m# Labels are true here because generator thinks he produces real images.\u001b[0m\u001b[0;34m\u001b[0m\u001b[0;34m\u001b[0m\u001b[0;34m\u001b[0m\u001b[0m\n\u001b[1;32m      5\u001b[0m     \u001b[0;31m#print('generator objective')\u001b[0m\u001b[0;34m\u001b[0m\u001b[0;34m\u001b[0m\u001b[0;34m\u001b[0m\u001b[0m\n",
      "\u001b[0;31mAttributeError\u001b[0m: module 'tensorflow.tools.api.generator.api.keras.losses' has no attribute 'BinaryCrossentropy'"
     ]
    }
   ],
   "source": [
    "cross_entropy = keras.losses.BinaryCrossentropy(from_logits = True)\n",
    "\n",
    "def generator_objective(dx_of_gx):\n",
    "    # Labels are true here because generator thinks he produces real images. \n",
    "    #print('generator objective')\n",
    "    return cross_entropy(tf.ones_like(dx_of_gx), dx_of_gx)"
   ]
  },
  {
   "cell_type": "code",
   "execution_count": 60,
   "metadata": {},
   "outputs": [],
   "source": [
    "class Discriminator(keras.Model):\n",
    "    def __init__(self):\n",
    "        super().__init__(name = \"discriminator\")\n",
    "        \n",
    "        #Layers\n",
    "        self.input_layer = keras.layers.Dense(units = 10000)\n",
    "        self.dense_1 = keras.layers.Dense(units = 128)\n",
    "        self.leaky_1 =  keras.layers.LeakyReLU(alpha = 0.01)\n",
    "        self.dense_2 = keras.layers.Dense(units = 128)\n",
    "        self.leaky_2 = keras.layers.LeakyReLU(alpha = 0.01)\n",
    "        #self.dense_3 = keras.layers.Dense(units = 128)\n",
    "        #self.leaky_3 = keras.layers.LeakyReLU(alpha = 0.01)\n",
    "        #print('initialized discriminator')\n",
    "        \n",
    "        self.logits = keras.layers.Dense(units = 1)  # This neuron tells us if the input is fake or real\n",
    "    def call(self, input_tensor):\n",
    "        #print('first discriminator call')\n",
    "          ## Definition of Forward Pass\n",
    "        x = self.input_layer(input_tensor)\n",
    "        x = self.dense_1(x)\n",
    "        x = self.leaky_1(x)\n",
    "        x = self.leaky_2(x)\n",
    "        #x = self.leaky_3(x)\n",
    "        #x = self.leaky_3(x)\n",
    "        x = self.logits(x)\n",
    "        #print('called from discriminator')\n",
    "        return x"
   ]
  },
  {
   "cell_type": "code",
   "execution_count": 61,
   "metadata": {},
   "outputs": [],
   "source": [
    "discriminator = Discriminator()"
   ]
  },
  {
   "cell_type": "code",
   "execution_count": 62,
   "metadata": {},
   "outputs": [],
   "source": [
    "def discriminator_objective(d_x, g_z, smoothing_factor = 0.9):\n",
    "    \"\"\"\n",
    "    d_x = real output\n",
    "    g_z = fake output\n",
    "    \"\"\"\n",
    "    real_loss = cross_entropy(tf.ones_like(d_x) * smoothing_factor, d_x) # If we feed the discriminator with real images, we assume they all are the right pictures --> Because of that label == 1\n",
    "    fake_loss = cross_entropy(tf.zeros_like(g_z), g_z) # Each noise we feed in are fakes image --> Because of that labels are 0\n",
    "    \n",
    "    total_loss = real_loss + fake_loss\n",
    "    #print('discriminator objective')\n",
    "    \n",
    "    return total_loss"
   ]
  },
  {
   "cell_type": "code",
   "execution_count": 63,
   "metadata": {},
   "outputs": [],
   "source": [
    "generator_optimizer = keras.optimizers.RMSprop()\n",
    "discriminator_optimizer = keras.optimizers.RMSprop()"
   ]
  },
  {
   "cell_type": "code",
   "execution_count": 64,
   "metadata": {},
   "outputs": [],
   "source": [
    "#@tf.function()\n",
    "def training_step(generator: Discriminator, discriminator: Discriminator, images:np.ndarray , k:int =1, batch_size = 32):\n",
    "    for _ in range(k):\n",
    "         with tf.GradientTape() as gen_tape, tf.GradientTape() as disc_tape:\n",
    "            #print('here in ts')\n",
    "            noise = generator.generate_noise(batch_size, 100)\n",
    "            #print('here in ts')\n",
    "            g_z = generator(noise)\n",
    "            #print('here in ts')\n",
    "            d_x_true = discriminator(images) # Trainable?\n",
    "            #print('here in ts')\n",
    "            d_x_fake = discriminator(g_z) # dx_of_gx\n",
    "            #print('here in ts')\n",
    "            discriminator_loss = discriminator_objective(d_x_true, d_x_fake)\n",
    "            #print('here in ts')\n",
    "            # Adjusting Gradient of Discriminator\n",
    "            gradients_of_discriminator = disc_tape.gradient(discriminator_loss, discriminator.trainable_variables)\n",
    "            discriminator_optimizer.apply_gradients(zip(gradients_of_discriminator, discriminator.trainable_variables)) # Takes a list of gradient and variables pairs\n",
    "            #print('now here in ts')\n",
    "              \n",
    "            generator_loss = generator_objective(d_x_fake)\n",
    "            # Adjusting Gradient of Generator\n",
    "            gradients_of_generator = gen_tape.gradient(generator_loss, generator.trainable_variables)\n",
    "            generator_optimizer.apply_gradients(zip(gradients_of_generator, generator.trainable_variables)) \n",
    "            #print('training step done')"
   ]
  },
  {
   "cell_type": "code",
   "execution_count": 65,
   "metadata": {},
   "outputs": [],
   "source": [
    "seed = np.random.uniform(-1,1, size = (1, 100)) # generating some noise for the training"
   ]
  },
  {
   "cell_type": "code",
   "execution_count": 77,
   "metadata": {},
   "outputs": [],
   "source": [
    "def training(dataset, epoches):\n",
    "    for epoch in range(epoches):\n",
    "        #print('next epoch')\n",
    "        for batch in dataset: \n",
    "            training_step(generator, discriminator, batch, batch_size = BATCH_SIZE, k = 1)\n",
    "            #print('next batch')\n",
    "            \n",
    "        ## After ith epoch plot image \n",
    "        if (epoch % 50) == 0: \n",
    "            fake_image = tf.reshape(generator(seed), shape = (100,100))\n",
    "            print(\"{}/{} epoches\".format(epoch, epoches))\n",
    "            plt.imshow(fake_image, cmap = \"gray\")\n",
    "            #plt.imsave(\"{}/{}.png\".format(OUTPUT_DIR,epoch),fake_image, cmap = \"gray\")"
   ]
  },
  {
   "cell_type": "code",
   "execution_count": 78,
   "metadata": {},
   "outputs": [],
   "source": [
    "gans_train_prop = np.array(list(train_df[train_df['Proper']==1]['Image']))\n",
    "gans_train_improp = np.array(list(train_df[train_df['Proper']==0]['Image']))"
   ]
  },
  {
   "cell_type": "code",
   "execution_count": 79,
   "metadata": {},
   "outputs": [],
   "source": [
    "train_dataset_good = tf.data.Dataset.from_tensor_slices(gans_train_prop.reshape(gans_train_prop.shape[0],10000)).shuffle(BUFFER_SIZE).batch(BATCH_SIZE)"
   ]
  },
  {
   "cell_type": "code",
   "execution_count": 80,
   "metadata": {},
   "outputs": [],
   "source": [
    "train_dataset_bad = tf.data.Dataset.from_tensor_slices(gans_train_improp.reshape(gans_train_improp.shape[0],10000)).shuffle(BUFFER_SIZE).batch(BATCH_SIZE)"
   ]
  },
  {
   "cell_type": "code",
   "execution_count": 81,
   "metadata": {},
   "outputs": [
    {
     "name": "stdout",
     "output_type": "stream",
     "text": [
      "0/5 epoches\n"
     ]
    },
    {
     "data": {
      "image/png": "[encoded data removed]",
      "text/plain": [
       "<Figure size 432x288 with 1 Axes>"
      ]
     },
     "metadata": {
      "needs_background": "light"
     },
     "output_type": "display_data"
    }
   ],
   "source": [
    "training(train_dataset_bad, EPOCHES)"
   ]
  },
  {
   "cell_type": "code",
   "execution_count": 82,
   "metadata": {},
   "outputs": [
    {
     "data": {
      "text/plain": [
       "<matplotlib.image.AxesImage at 0x7f25e05a1d68>"
      ]
     },
     "execution_count": 82,
     "metadata": {},
     "output_type": "execute_result"
    },
    {
     "data": {
      "image/png": "[encoded data removed]",
      "text/plain": [
       "<Figure size 432x288 with 1 Axes>"
      ]
     },
     "metadata": {
      "needs_background": "light"
     },
     "output_type": "display_data"
    }
   ],
   "source": [
    "fake_image = generator(np.random.uniform(-1,1, size = (1, 100)))\n",
    "plt.imshow(tf.reshape(fake_image, shape = (100,100)), cmap=\"gray\")\n",
    "#plt.imshow(fake_image)"
   ]
  },
  {
   "cell_type": "code",
   "execution_count": null,
   "metadata": {},
   "outputs": [],
   "source": []
  }
 ],
 "metadata": {
  "kernelspec": {
   "display_name": "Python 3",
   "language": "python",
   "name": "python3"
  },
  "language_info": {
   "codemirror_mode": {
    "name": "ipython",
    "version": 3
   },
   "file_extension": ".py",
   "mimetype": "text/x-python",
   "name": "python",
   "nbconvert_exporter": "python",
   "pygments_lexer": "ipython3",
   "version": "3.6.8"
  }
 },
 "nbformat": 4,
 "nbformat_minor": 2
}
